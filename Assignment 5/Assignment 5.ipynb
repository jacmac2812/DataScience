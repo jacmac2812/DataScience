{
 "cells": [
  {
   "cell_type": "markdown",
   "id": "ef7ae2ed",
   "metadata": {},
   "source": [
    "# Assignment 5"
   ]
  },
  {
   "cell_type": "code",
   "execution_count": 1,
   "id": "b0830cb8",
   "metadata": {},
   "outputs": [],
   "source": [
    "# For data manipulation\n",
    "import pandas as pd\n",
    "\n",
    "# for scientific computation\n",
    "import numpy as np\n",
    "\n",
    "# for data analysis\n",
    "from sklearn import linear_model\n",
    "from sklearn.linear_model import LinearRegression\n",
    "from sklearn.preprocessing import PolynomialFeatures\n",
    "import sklearn.metrics as sm\n",
    "\n",
    "# for diagramming \n",
    "import matplotlib.pyplot as plt"
   ]
  },
  {
   "cell_type": "code",
   "execution_count": 2,
   "id": "feeab0b8",
   "metadata": {
    "scrolled": true
   },
   "outputs": [],
   "source": [
    "url = './china_gdp.csv'\n",
    "df = pd.read_csv(url)"
   ]
  },
  {
   "cell_type": "markdown",
   "id": "96e70995",
   "metadata": {},
   "source": [
    "### Linear regression"
   ]
  },
  {
   "cell_type": "code",
   "execution_count": 3,
   "id": "4ecd236d",
   "metadata": {},
   "outputs": [
    {
     "data": {
      "text/plain": [
       "(55, 2)"
      ]
     },
     "execution_count": 3,
     "metadata": {},
     "output_type": "execute_result"
    }
   ],
   "source": [
    "# We are checking the shape of the data:\n",
    "df.shape\n",
    "# There are 55 number of rows and 2 columns"
   ]
  },
  {
   "cell_type": "code",
   "execution_count": 4,
   "id": "47817763",
   "metadata": {},
   "outputs": [
    {
     "data": {
      "text/html": [
       "<div>\n",
       "<style scoped>\n",
       "    .dataframe tbody tr th:only-of-type {\n",
       "        vertical-align: middle;\n",
       "    }\n",
       "\n",
       "    .dataframe tbody tr th {\n",
       "        vertical-align: top;\n",
       "    }\n",
       "\n",
       "    .dataframe thead th {\n",
       "        text-align: right;\n",
       "    }\n",
       "</style>\n",
       "<table border=\"1\" class=\"dataframe\">\n",
       "  <thead>\n",
       "    <tr style=\"text-align: right;\">\n",
       "      <th></th>\n",
       "      <th>Year</th>\n",
       "      <th>Value</th>\n",
       "    </tr>\n",
       "  </thead>\n",
       "  <tbody>\n",
       "    <tr>\n",
       "      <th>0</th>\n",
       "      <td>1960</td>\n",
       "      <td>5.918412e+10</td>\n",
       "    </tr>\n",
       "    <tr>\n",
       "      <th>1</th>\n",
       "      <td>1961</td>\n",
       "      <td>4.955705e+10</td>\n",
       "    </tr>\n",
       "    <tr>\n",
       "      <th>2</th>\n",
       "      <td>1962</td>\n",
       "      <td>4.668518e+10</td>\n",
       "    </tr>\n",
       "    <tr>\n",
       "      <th>3</th>\n",
       "      <td>1963</td>\n",
       "      <td>5.009730e+10</td>\n",
       "    </tr>\n",
       "    <tr>\n",
       "      <th>4</th>\n",
       "      <td>1964</td>\n",
       "      <td>5.906225e+10</td>\n",
       "    </tr>\n",
       "  </tbody>\n",
       "</table>\n",
       "</div>"
      ],
      "text/plain": [
       "   Year         Value\n",
       "0  1960  5.918412e+10\n",
       "1  1961  4.955705e+10\n",
       "2  1962  4.668518e+10\n",
       "3  1963  5.009730e+10\n",
       "4  1964  5.906225e+10"
      ]
     },
     "execution_count": 4,
     "metadata": {},
     "output_type": "execute_result"
    }
   ],
   "source": [
    "df.head()"
   ]
  },
  {
   "cell_type": "code",
   "execution_count": 5,
   "id": "a651efa5",
   "metadata": {},
   "outputs": [
    {
     "data": {
      "text/html": [
       "<div>\n",
       "<style scoped>\n",
       "    .dataframe tbody tr th:only-of-type {\n",
       "        vertical-align: middle;\n",
       "    }\n",
       "\n",
       "    .dataframe tbody tr th {\n",
       "        vertical-align: top;\n",
       "    }\n",
       "\n",
       "    .dataframe thead th {\n",
       "        text-align: right;\n",
       "    }\n",
       "</style>\n",
       "<table border=\"1\" class=\"dataframe\">\n",
       "  <thead>\n",
       "    <tr style=\"text-align: right;\">\n",
       "      <th></th>\n",
       "      <th>Year</th>\n",
       "      <th>Value</th>\n",
       "    </tr>\n",
       "  </thead>\n",
       "  <tbody>\n",
       "    <tr>\n",
       "      <th>50</th>\n",
       "      <td>2010</td>\n",
       "      <td>6.039659e+12</td>\n",
       "    </tr>\n",
       "    <tr>\n",
       "      <th>51</th>\n",
       "      <td>2011</td>\n",
       "      <td>7.492432e+12</td>\n",
       "    </tr>\n",
       "    <tr>\n",
       "      <th>52</th>\n",
       "      <td>2012</td>\n",
       "      <td>8.461623e+12</td>\n",
       "    </tr>\n",
       "    <tr>\n",
       "      <th>53</th>\n",
       "      <td>2013</td>\n",
       "      <td>9.490603e+12</td>\n",
       "    </tr>\n",
       "    <tr>\n",
       "      <th>54</th>\n",
       "      <td>2014</td>\n",
       "      <td>1.035483e+13</td>\n",
       "    </tr>\n",
       "  </tbody>\n",
       "</table>\n",
       "</div>"
      ],
      "text/plain": [
       "    Year         Value\n",
       "50  2010  6.039659e+12\n",
       "51  2011  7.492432e+12\n",
       "52  2012  8.461623e+12\n",
       "53  2013  9.490603e+12\n",
       "54  2014  1.035483e+13"
      ]
     },
     "execution_count": 5,
     "metadata": {},
     "output_type": "execute_result"
    }
   ],
   "source": [
    "df.tail()"
   ]
  },
  {
   "cell_type": "markdown",
   "id": "c37338f8",
   "metadata": {},
   "source": [
    "### Study the data"
   ]
  },
  {
   "cell_type": "code",
   "execution_count": 6,
   "id": "758d3d92",
   "metadata": {},
   "outputs": [
    {
     "data": {
      "text/html": [
       "<div>\n",
       "<style scoped>\n",
       "    .dataframe tbody tr th:only-of-type {\n",
       "        vertical-align: middle;\n",
       "    }\n",
       "\n",
       "    .dataframe tbody tr th {\n",
       "        vertical-align: top;\n",
       "    }\n",
       "\n",
       "    .dataframe thead th {\n",
       "        text-align: right;\n",
       "    }\n",
       "</style>\n",
       "<table border=\"1\" class=\"dataframe\">\n",
       "  <thead>\n",
       "    <tr style=\"text-align: right;\">\n",
       "      <th></th>\n",
       "      <th>Year</th>\n",
       "      <th>Value</th>\n",
       "    </tr>\n",
       "  </thead>\n",
       "  <tbody>\n",
       "    <tr>\n",
       "      <th>count</th>\n",
       "      <td>55.00000</td>\n",
       "      <td>5.500000e+01</td>\n",
       "    </tr>\n",
       "    <tr>\n",
       "      <th>mean</th>\n",
       "      <td>1987.00000</td>\n",
       "      <td>1.437042e+12</td>\n",
       "    </tr>\n",
       "    <tr>\n",
       "      <th>std</th>\n",
       "      <td>16.02082</td>\n",
       "      <td>2.500085e+12</td>\n",
       "    </tr>\n",
       "    <tr>\n",
       "      <th>min</th>\n",
       "      <td>1960.00000</td>\n",
       "      <td>4.668518e+10</td>\n",
       "    </tr>\n",
       "    <tr>\n",
       "      <th>25%</th>\n",
       "      <td>1973.50000</td>\n",
       "      <td>1.395123e+11</td>\n",
       "    </tr>\n",
       "    <tr>\n",
       "      <th>50%</th>\n",
       "      <td>1987.00000</td>\n",
       "      <td>3.074796e+11</td>\n",
       "    </tr>\n",
       "    <tr>\n",
       "      <th>75%</th>\n",
       "      <td>2000.50000</td>\n",
       "      <td>1.268748e+12</td>\n",
       "    </tr>\n",
       "    <tr>\n",
       "      <th>max</th>\n",
       "      <td>2014.00000</td>\n",
       "      <td>1.035483e+13</td>\n",
       "    </tr>\n",
       "  </tbody>\n",
       "</table>\n",
       "</div>"
      ],
      "text/plain": [
       "             Year         Value\n",
       "count    55.00000  5.500000e+01\n",
       "mean   1987.00000  1.437042e+12\n",
       "std      16.02082  2.500085e+12\n",
       "min    1960.00000  4.668518e+10\n",
       "25%    1973.50000  1.395123e+11\n",
       "50%    1987.00000  3.074796e+11\n",
       "75%    2000.50000  1.268748e+12\n",
       "max    2014.00000  1.035483e+13"
      ]
     },
     "execution_count": 6,
     "metadata": {},
     "output_type": "execute_result"
    }
   ],
   "source": [
    "df.describe()"
   ]
  },
  {
   "cell_type": "markdown",
   "id": "6477d150",
   "metadata": {},
   "source": [
    "#### From the describe we can see that the data extends the period 1960-2014. We can also see the number of samples: 55, and the quartile values.\n",
    "#### We split the data to the x axis and y axis"
   ]
  },
  {
   "cell_type": "code",
   "execution_count": 7,
   "id": "faa4bd1f",
   "metadata": {},
   "outputs": [],
   "source": [
    "x, y = df.iloc[0:,0:1], df.iloc[0:,1:]"
   ]
  },
  {
   "cell_type": "markdown",
   "id": "ba355978",
   "metadata": {},
   "source": [
    "### Preprocessing Data"
   ]
  },
  {
   "cell_type": "code",
   "execution_count": 8,
   "id": "80d20cb7",
   "metadata": {
    "scrolled": true
   },
   "outputs": [
    {
     "data": {
      "image/png": "[encoded data removed]",
      "text/plain": [
       "<Figure size 432x288 with 1 Axes>"
      ]
     },
     "metadata": {
      "needs_background": "light"
     },
     "output_type": "display_data"
    }
   ],
   "source": [
    "# Plot all\n",
    "plt.xlabel('year')\n",
    "plt.ylabel('value')\n",
    "plt.scatter(x, y, color='green')\n",
    "plt.show()"
   ]
  },
  {
   "cell_type": "markdown",
   "id": "f3a97bb0",
   "metadata": {},
   "source": [
    "#### From the above we can see that the GDP raises exponential. "
   ]
  },
  {
   "cell_type": "markdown",
   "id": "b31634a9",
   "metadata": {},
   "source": [
    "### Train the model with scikit-learn\n",
    "#### We devide the data into training (80%) and test (20%) data"
   ]
  },
  {
   "cell_type": "code",
   "execution_count": 9,
   "id": "22a6fef7",
   "metadata": {},
   "outputs": [],
   "source": [
    "# Split in train and test\n",
    "ntr = int(0.8 * len(x))\n",
    "nts = len(x) - ntr\n",
    "\n",
    "# Training data\n",
    "x_train, y_train = x[:ntr], y[:ntr]\n",
    "\n",
    "# Test data\n",
    "x_test, y_test = x[nts:], y[nts:]"
   ]
  },
  {
   "cell_type": "code",
   "execution_count": 10,
   "id": "e059606d",
   "metadata": {},
   "outputs": [
    {
     "data": {
      "image/png": "[encoded data removed]",
      "text/plain": [
       "<Figure size 432x288 with 1 Axes>"
      ]
     },
     "metadata": {
      "needs_background": "light"
     },
     "output_type": "display_data"
    }
   ],
   "source": [
    "# Plot train data\n",
    "plt.scatter(x_train, y_train, color='blue')\n",
    "plt.xlabel('year')\n",
    "plt.ylabel('value')\n",
    "plt.show()"
   ]
  },
  {
   "cell_type": "code",
   "execution_count": 11,
   "id": "ef739698",
   "metadata": {
    "scrolled": true
   },
   "outputs": [
    {
     "data": {
      "image/png": "[encoded data removed]",
      "text/plain": [
       "<Figure size 432x288 with 1 Axes>"
      ]
     },
     "metadata": {
      "needs_background": "light"
     },
     "output_type": "display_data"
    }
   ],
   "source": [
    "# Plot test data - randomly selected\n",
    "plt.scatter(x_test, y_test, color='green')\n",
    "plt.xlabel('year')\n",
    "plt.ylabel('value')\n",
    "plt.show()"
   ]
  },
  {
   "cell_type": "markdown",
   "id": "699efc9a",
   "metadata": {},
   "source": [
    "#### Linear model:"
   ]
  },
  {
   "cell_type": "code",
   "execution_count": 12,
   "id": "59f78527",
   "metadata": {},
   "outputs": [
    {
     "data": {
      "text/plain": [
       "LinearRegression()"
      ]
     },
     "execution_count": 12,
     "metadata": {},
     "output_type": "execute_result"
    }
   ],
   "source": [
    "# Create linear regressor object\n",
    "regressor = linear_model.LinearRegression()\n",
    "\n",
    "# Train the model using the training sets\n",
    "regressor.fit(x_train, y_train)"
   ]
  },
  {
   "cell_type": "markdown",
   "id": "db2cb151",
   "metadata": {},
   "source": [
    "### Testing the linear model"
   ]
  },
  {
   "cell_type": "code",
   "execution_count": 13,
   "id": "e7980444",
   "metadata": {
    "scrolled": true
   },
   "outputs": [
    {
     "data": {
      "text/plain": [
       "array([[9.31130147e+10],\n",
       "       [1.21295061e+11],\n",
       "       [1.49477108e+11],\n",
       "       [1.77659154e+11],\n",
       "       [2.05841201e+11],\n",
       "       [2.34023247e+11],\n",
       "       [2.62205294e+11],\n",
       "       [2.90387340e+11],\n",
       "       [3.18569386e+11],\n",
       "       [3.46751433e+11],\n",
       "       [3.74933479e+11],\n",
       "       [4.03115526e+11],\n",
       "       [4.31297572e+11],\n",
       "       [4.59479619e+11],\n",
       "       [4.87661665e+11],\n",
       "       [5.15843712e+11],\n",
       "       [5.44025758e+11],\n",
       "       [5.72207805e+11],\n",
       "       [6.00389851e+11],\n",
       "       [6.28571898e+11],\n",
       "       [6.56753944e+11],\n",
       "       [6.84935991e+11],\n",
       "       [7.13118037e+11],\n",
       "       [7.41300083e+11],\n",
       "       [7.69482130e+11],\n",
       "       [7.97664176e+11],\n",
       "       [8.25846223e+11],\n",
       "       [8.54028269e+11],\n",
       "       [8.82210316e+11],\n",
       "       [9.10392362e+11],\n",
       "       [9.38574409e+11],\n",
       "       [9.66756455e+11],\n",
       "       [9.94938502e+11],\n",
       "       [1.02312055e+12],\n",
       "       [1.05130259e+12],\n",
       "       [1.07948464e+12],\n",
       "       [1.10766669e+12],\n",
       "       [1.13584873e+12],\n",
       "       [1.16403078e+12],\n",
       "       [1.19221283e+12],\n",
       "       [1.22039487e+12],\n",
       "       [1.24857692e+12],\n",
       "       [1.27675897e+12],\n",
       "       [1.30494101e+12]])"
      ]
     },
     "execution_count": 13,
     "metadata": {},
     "output_type": "execute_result"
    }
   ],
   "source": [
    "# Predict the output\n",
    "y_predicted = regressor.predict(x_test)\n",
    "y_predicted"
   ]
  },
  {
   "cell_type": "code",
   "execution_count": 14,
   "id": "2046ebec",
   "metadata": {},
   "outputs": [
    {
     "data": {
      "text/plain": [
       "0.02503289035750944"
      ]
     },
     "execution_count": 14,
     "metadata": {},
     "output_type": "execute_result"
    }
   ],
   "source": [
    "# Calculate a score associated with this model\n",
    "regressor.score(x_test, y_test)"
   ]
  },
  {
   "cell_type": "code",
   "execution_count": 15,
   "id": "40f6d326",
   "metadata": {
    "scrolled": false
   },
   "outputs": [
    {
     "data": {
      "image/png": "[encoded data removed]",
      "text/plain": [
       "<Figure size 432x288 with 1 Axes>"
      ]
     },
     "metadata": {
      "needs_background": "light"
     },
     "output_type": "display_data"
    }
   ],
   "source": [
    "# Plot output\n",
    "plt.scatter(x_test, y_test, color='green')\n",
    "plt.plot(x_test, y_predicted, color='magenta', linewidth=1)\n",
    "plt.xlabel('year')\n",
    "plt.ylabel('value')\n",
    "plt.show()"
   ]
  },
  {
   "cell_type": "code",
   "execution_count": 16,
   "id": "42e76b32",
   "metadata": {},
   "outputs": [
    {
     "data": {
      "text/plain": [
       "array([[-2.16889496e+11],\n",
       "       [-1.88707450e+11],\n",
       "       [-1.60525403e+11],\n",
       "       [-1.32343357e+11],\n",
       "       [-1.04161311e+11],\n",
       "       [-7.59792641e+10],\n",
       "       [-4.77972176e+10],\n",
       "       [-1.96151712e+10],\n",
       "       [ 8.56687532e+09],\n",
       "       [ 3.67489218e+10],\n",
       "       [ 6.49309683e+10],\n",
       "       [ 9.31130147e+10],\n",
       "       [ 1.21295061e+11],\n",
       "       [ 1.49477108e+11],\n",
       "       [ 1.77659154e+11],\n",
       "       [ 2.05841201e+11],\n",
       "       [ 2.34023247e+11],\n",
       "       [ 2.62205294e+11],\n",
       "       [ 2.90387340e+11],\n",
       "       [ 3.18569386e+11],\n",
       "       [ 3.46751433e+11],\n",
       "       [ 3.74933479e+11],\n",
       "       [ 4.03115526e+11],\n",
       "       [ 4.31297572e+11],\n",
       "       [ 4.59479619e+11],\n",
       "       [ 4.87661665e+11],\n",
       "       [ 5.15843712e+11],\n",
       "       [ 5.44025758e+11],\n",
       "       [ 5.72207805e+11],\n",
       "       [ 6.00389851e+11],\n",
       "       [ 6.28571898e+11],\n",
       "       [ 6.56753944e+11],\n",
       "       [ 6.84935991e+11],\n",
       "       [ 7.13118037e+11],\n",
       "       [ 7.41300083e+11],\n",
       "       [ 7.69482130e+11],\n",
       "       [ 7.97664176e+11],\n",
       "       [ 8.25846223e+11],\n",
       "       [ 8.54028269e+11],\n",
       "       [ 8.82210316e+11],\n",
       "       [ 9.10392362e+11],\n",
       "       [ 9.38574409e+11],\n",
       "       [ 9.66756455e+11],\n",
       "       [ 9.94938502e+11],\n",
       "       [ 1.02312055e+12],\n",
       "       [ 1.05130259e+12],\n",
       "       [ 1.07948464e+12],\n",
       "       [ 1.10766669e+12],\n",
       "       [ 1.13584873e+12],\n",
       "       [ 1.16403078e+12],\n",
       "       [ 1.19221283e+12],\n",
       "       [ 1.22039487e+12],\n",
       "       [ 1.24857692e+12],\n",
       "       [ 1.27675897e+12],\n",
       "       [ 1.30494101e+12]])"
      ]
     },
     "execution_count": 16,
     "metadata": {},
     "output_type": "execute_result"
    }
   ],
   "source": [
    "# Predict the output\n",
    "y_predicted = regressor.predict(x)\n",
    "y_predicted"
   ]
  },
  {
   "cell_type": "code",
   "execution_count": 17,
   "id": "08af81e5",
   "metadata": {},
   "outputs": [],
   "source": [
    "# RMSE (Root mean squared error) answers the question: \"How similar, on average, are the numbers in list1 to list2?\"  \n",
    "rmse_linear = np.sqrt(sm.mean_squared_error(y, y_predicted))\n",
    "r2_linear = sm.r2_score(y, y_predicted)"
   ]
  },
  {
   "cell_type": "markdown",
   "id": "167b1cb3",
   "metadata": {},
   "source": [
    "#### As expected the score for this regression was very bad: 0,05 and the plot shows this as well. \n",
    "### Testing an polynominal model \n",
    "#### We start by creating the polynominal model and transforms the model to a linear regression model"
   ]
  },
  {
   "cell_type": "code",
   "execution_count": 18,
   "id": "b77c5403",
   "metadata": {},
   "outputs": [],
   "source": [
    "# polynomial regression model\n",
    "polyreg = PolynomialFeatures(degree=4)\n",
    "\n",
    "# transform my train data to adjust the polynom to linear regression model\n",
    "x_pol = polyreg.fit_transform(x)"
   ]
  },
  {
   "cell_type": "markdown",
   "id": "e389ed03",
   "metadata": {},
   "source": [
    "#### Now we can make linear regression:"
   ]
  },
  {
   "cell_type": "code",
   "execution_count": 19,
   "id": "1c6c0a07",
   "metadata": {
    "scrolled": true
   },
   "outputs": [
    {
     "data": {
      "text/plain": [
       "LinearRegression()"
      ]
     },
     "execution_count": 19,
     "metadata": {},
     "output_type": "execute_result"
    }
   ],
   "source": [
    "# create linear regression model\n",
    "pollinreg = LinearRegression()\n",
    "pollinreg.fit(x_pol, y)"
   ]
  },
  {
   "cell_type": "markdown",
   "id": "ed43fee0",
   "metadata": {},
   "source": [
    "#### We create the array y_predicted"
   ]
  },
  {
   "cell_type": "code",
   "execution_count": 20,
   "id": "fe3a0de4",
   "metadata": {},
   "outputs": [
    {
     "data": {
      "text/plain": [
       "(55, 1)"
      ]
     },
     "execution_count": 20,
     "metadata": {},
     "output_type": "execute_result"
    }
   ],
   "source": [
    "# apply the model on my train data\n",
    "y_predicted = pollinreg.predict(x_pol)\n",
    "y_predicted.shape"
   ]
  },
  {
   "cell_type": "code",
   "execution_count": 21,
   "id": "7bf3e701",
   "metadata": {},
   "outputs": [
    {
     "data": {
      "text/plain": [
       "(55, 1)"
      ]
     },
     "execution_count": 21,
     "metadata": {},
     "output_type": "execute_result"
    }
   ],
   "source": [
    "y.shape"
   ]
  },
  {
   "cell_type": "code",
   "execution_count": 22,
   "id": "f698886d",
   "metadata": {
    "scrolled": false
   },
   "outputs": [
    {
     "data": {
      "image/png": "[encoded data removed]",
      "text/plain": [
       "<Figure size 432x288 with 1 Axes>"
      ]
     },
     "metadata": {
      "needs_background": "light"
     },
     "output_type": "display_data"
    }
   ],
   "source": [
    "# Visualise the Polymonial Regression results\n",
    "plt.title('Polynomial Regression')\n",
    "plt.scatter(x, y, color='red')\n",
    "plt.plot(x, y_predicted, color='green')\n",
    "plt.xlabel('year')\n",
    "plt.ylabel('value')\n",
    "plt.show()"
   ]
  },
  {
   "cell_type": "markdown",
   "id": "2cb3f955",
   "metadata": {},
   "source": [
    "#### The polynomial model seems a much better fit."
   ]
  },
  {
   "cell_type": "markdown",
   "id": "4669218e",
   "metadata": {},
   "source": [
    "### Testing and comparing the two models"
   ]
  },
  {
   "cell_type": "code",
   "execution_count": 23,
   "id": "60f8ffe6",
   "metadata": {},
   "outputs": [],
   "source": [
    "# RMSE (Root mean squared error) answers the question: \"How similar, on average, are the numbers in list1 to list2?\"  \n",
    "rmse = np.sqrt(sm.mean_squared_error(y, y_predicted))\n",
    "r2 = sm.r2_score(y, y_predicted)"
   ]
  },
  {
   "cell_type": "code",
   "execution_count": 24,
   "id": "532da56e",
   "metadata": {},
   "outputs": [
    {
     "data": {
      "text/plain": [
       "462654777553.9394"
      ]
     },
     "execution_count": 24,
     "metadata": {},
     "output_type": "execute_result"
    }
   ],
   "source": [
    "rmse"
   ]
  },
  {
   "cell_type": "code",
   "execution_count": 25,
   "id": "506a2a6e",
   "metadata": {},
   "outputs": [
    {
     "data": {
      "text/plain": [
       "2351584722399.283"
      ]
     },
     "execution_count": 25,
     "metadata": {},
     "output_type": "execute_result"
    }
   ],
   "source": [
    "rmse_linear"
   ]
  },
  {
   "cell_type": "code",
   "execution_count": 26,
   "id": "d224ab56",
   "metadata": {},
   "outputs": [
    {
     "data": {
      "text/plain": [
       "1888929944845.3438"
      ]
     },
     "execution_count": 26,
     "metadata": {},
     "output_type": "execute_result"
    }
   ],
   "source": [
    "rmse_linear-rmse"
   ]
  },
  {
   "cell_type": "code",
   "execution_count": 27,
   "id": "7cce1617",
   "metadata": {
    "scrolled": true
   },
   "outputs": [
    {
     "data": {
      "text/plain": [
       "0.965120230215125"
      ]
     },
     "execution_count": 27,
     "metadata": {},
     "output_type": "execute_result"
    }
   ],
   "source": [
    "r2"
   ]
  },
  {
   "cell_type": "code",
   "execution_count": 28,
   "id": "34e56b8f",
   "metadata": {},
   "outputs": [
    {
     "data": {
      "text/plain": [
       "0.09888386210694755"
      ]
     },
     "execution_count": 28,
     "metadata": {},
     "output_type": "execute_result"
    }
   ],
   "source": [
    "r2_linear"
   ]
  },
  {
   "cell_type": "markdown",
   "id": "a1ef0701",
   "metadata": {},
   "source": [
    "#### Our RMSE for the linear model is 1888929944845.3438 larger than for the polynomial model. This means the polynomial model is a better fit for this data.\n",
    "#### Also the R2 is way better for the polynomial than for the linear because we want a value there is closets to 1."
   ]
  },
  {
   "cell_type": "markdown",
   "id": "2782d4f2",
   "metadata": {},
   "source": [
    "### Predicting value for 2010, 2020 and 2022"
   ]
  },
  {
   "cell_type": "code",
   "execution_count": 29,
   "id": "931ec0ab",
   "metadata": {
    "scrolled": true
   },
   "outputs": [
    {
     "data": {
      "text/plain": [
       "array([[6.23355422e+12],\n",
       "       [1.62151792e+13],\n",
       "       [1.89767484e+13]])"
      ]
     },
     "execution_count": 29,
     "metadata": {},
     "output_type": "execute_result"
    }
   ],
   "source": [
    "pollinreg.predict(polyreg.fit_transform([[2010], [2020], [2022]]))"
   ]
  },
  {
   "cell_type": "markdown",
   "id": "bc3971c2",
   "metadata": {},
   "source": [
    "### For 2010 the value is 6.233.554.220.000\n",
    "#### - The value of 2010 from the dataset is 6.039.658.508.485,59 which is almost the predicted value.\n",
    "### For 2020 the value is 16.215.179.200.000\n",
    "### For 2022 the value is 18.976.748.400.000"
   ]
  },
  {
   "cell_type": "markdown",
   "id": "3b470ec8",
   "metadata": {},
   "source": [
    "# Questions"
   ]
  },
  {
   "cell_type": "markdown",
   "id": "84dc55e7",
   "metadata": {},
   "source": [
    "#### What type/s of regression have you applied?\n",
    "- We have aplied linear and polynominal regression\n",
    "\n",
    "#### Which were the challenges?\n",
    "- We did not have any real challenges, but if we should answer this, then we would say to calculate the RMSE and R2. \n",
    "\n",
    "#### How accurate is your solution?\n",
    "- Our polynominal is acceptable because the R2 value is 0.96 which is close to 1. See the above calculations of RMSE and R2-D\n",
    "\n",
    "#### What else could be done for improvement of the accuracy?\n",
    "- We could have used more data. "
   ]
  }
 ],
 "metadata": {
  "kernelspec": {
   "display_name": "Python 3 (ipykernel)",
   "language": "python",
   "name": "python3"
  },
  "language_info": {
   "codemirror_mode": {
    "name": "ipython",
    "version": 3
   },
   "file_extension": ".py",
   "mimetype": "text/x-python",
   "name": "python",
   "nbconvert_exporter": "python",
   "pygments_lexer": "ipython3",
   "version": "3.9.7"
  }
 },
 "nbformat": 4,
 "nbformat_minor": 5
}

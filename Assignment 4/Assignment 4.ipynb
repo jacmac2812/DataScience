{
 "cells": [
  {
   "cell_type": "markdown",
   "id": "8c683320",
   "metadata": {},
   "source": [
    "# Assignment 4"
   ]
  },
  {
   "cell_type": "code",
   "execution_count": 40,
   "id": "a4b68579",
   "metadata": {},
   "outputs": [],
   "source": [
    "import numpy as np\n",
    "from numpy.linalg import inv\n",
    "import matplotlib.pyplot as plt"
   ]
  },
  {
   "cell_type": "markdown",
   "id": "091e9ff2",
   "metadata": {},
   "source": [
    "## Task 1"
   ]
  },
  {
   "cell_type": "code",
   "execution_count": 2,
   "id": "aa2a6657",
   "metadata": {},
   "outputs": [],
   "source": [
    "A = np.array([[ 3, 1 ],[ 2, 6]])\n",
    "B = np.array([[ -1, 4 ],[ 3, 8]])"
   ]
  },
  {
   "cell_type": "markdown",
   "id": "ebbda6ca",
   "metadata": {},
   "source": [
    "#### a) A transposed"
   ]
  },
  {
   "cell_type": "code",
   "execution_count": 3,
   "id": "fe544af7",
   "metadata": {},
   "outputs": [
    {
     "data": {
      "text/plain": [
       "array([[3, 2],\n",
       "       [1, 6]])"
      ]
     },
     "execution_count": 3,
     "metadata": {},
     "output_type": "execute_result"
    }
   ],
   "source": [
    "ATrans = A.T\n",
    "ATrans"
   ]
  },
  {
   "cell_type": "markdown",
   "id": "99267fe7",
   "metadata": {},
   "source": [
    "#### b) B transposed"
   ]
  },
  {
   "cell_type": "code",
   "execution_count": 4,
   "id": "31a8cefd",
   "metadata": {},
   "outputs": [
    {
     "data": {
      "text/plain": [
       "array([[-1,  3],\n",
       "       [ 4,  8]])"
      ]
     },
     "execution_count": 4,
     "metadata": {},
     "output_type": "execute_result"
    }
   ],
   "source": [
    "BTrans = B.T\n",
    "BTrans"
   ]
  },
  {
   "cell_type": "markdown",
   "id": "6a9db852",
   "metadata": {},
   "source": [
    "#### c) Multiplication of A and B transposed"
   ]
  },
  {
   "cell_type": "code",
   "execution_count": 5,
   "id": "7acd9da6",
   "metadata": {},
   "outputs": [
    {
     "data": {
      "text/plain": [
       "array([[ 0, 16],\n",
       "       [20, 56]])"
      ]
     },
     "execution_count": 5,
     "metadata": {},
     "output_type": "execute_result"
    }
   ],
   "source": [
    "(A@B).T"
   ]
  },
  {
   "cell_type": "markdown",
   "id": "6b017752",
   "metadata": {},
   "source": [
    "#### d) Compare c) and b)*a)\n",
    "The two are the same"
   ]
  },
  {
   "cell_type": "code",
   "execution_count": 6,
   "id": "26faa332",
   "metadata": {},
   "outputs": [
    {
     "data": {
      "text/plain": [
       "array([[ 0, 16],\n",
       "       [20, 56]])"
      ]
     },
     "execution_count": 6,
     "metadata": {},
     "output_type": "execute_result"
    }
   ],
   "source": [
    "BTrans@ATrans"
   ]
  },
  {
   "cell_type": "markdown",
   "id": "54a1bc82",
   "metadata": {},
   "source": [
    "#### e) (A tranposed) transposed"
   ]
  },
  {
   "cell_type": "code",
   "execution_count": 7,
   "id": "0e52f424",
   "metadata": {},
   "outputs": [
    {
     "data": {
      "text/plain": [
       "array([[3, 1],\n",
       "       [2, 6]])"
      ]
     },
     "execution_count": 7,
     "metadata": {},
     "output_type": "execute_result"
    }
   ],
   "source": [
    "(A.T).T"
   ]
  },
  {
   "cell_type": "markdown",
   "id": "6c0cefec",
   "metadata": {},
   "source": [
    "#### f) AA transposed"
   ]
  },
  {
   "cell_type": "code",
   "execution_count": 8,
   "id": "fcc35b91",
   "metadata": {},
   "outputs": [
    {
     "data": {
      "text/plain": [
       "array([[10, 12],\n",
       "       [12, 40]])"
      ]
     },
     "execution_count": 8,
     "metadata": {},
     "output_type": "execute_result"
    }
   ],
   "source": [
    "A@A.T"
   ]
  },
  {
   "cell_type": "markdown",
   "id": "d950509c",
   "metadata": {},
   "source": [
    "### Transposition is making the rows become columns by rotating them 90 degrees."
   ]
  },
  {
   "cell_type": "markdown",
   "id": "19e75854",
   "metadata": {},
   "source": [
    "## Task 2"
   ]
  },
  {
   "cell_type": "code",
   "execution_count": 9,
   "id": "7f1417d1",
   "metadata": {},
   "outputs": [],
   "source": [
    "A = np.array([[ 2, 1 ],[ 3, 2]])\n",
    "B = np.array([[ 1, 2 ],[ 3, 4]])"
   ]
  },
  {
   "cell_type": "markdown",
   "id": "d7131340",
   "metadata": {},
   "source": [
    "#### a) Explain difference * @"
   ]
  },
  {
   "cell_type": "code",
   "execution_count": 10,
   "id": "e7eee23d",
   "metadata": {},
   "outputs": [
    {
     "data": {
      "text/plain": [
       "array([[2, 2],\n",
       "       [9, 8]])"
      ]
     },
     "execution_count": 10,
     "metadata": {},
     "output_type": "execute_result"
    }
   ],
   "source": [
    "A*B"
   ]
  },
  {
   "cell_type": "code",
   "execution_count": 11,
   "id": "bfd34be1",
   "metadata": {},
   "outputs": [
    {
     "ename": "SyntaxError",
     "evalue": "cannot assign to operator (Temp/ipykernel_4016/3704957291.py, line 1)",
     "output_type": "error",
     "traceback": [
      "\u001b[1;36m  File \u001b[1;32m\"C:\\Users\\miade\\AppData\\Local\\Temp/ipykernel_4016/3704957291.py\"\u001b[1;36m, line \u001b[1;32m1\u001b[0m\n\u001b[1;33m    A * B = [[2 * 1,   1 * 2], = [2, 2]\u001b[0m\n\u001b[1;37m    ^\u001b[0m\n\u001b[1;31mSyntaxError\u001b[0m\u001b[1;31m:\u001b[0m cannot assign to operator\n"
     ]
    }
   ],
   "source": [
    "A * B = [[2 * 1,   1 * 2], = [2, 2]\n",
    "         [3 * 3,   2 * 4]] = [9, 8]"
   ]
  },
  {
   "cell_type": "code",
   "execution_count": 12,
   "id": "f620e227",
   "metadata": {},
   "outputs": [
    {
     "data": {
      "text/plain": [
       "array([[ 5,  8],\n",
       "       [ 9, 14]])"
      ]
     },
     "execution_count": 12,
     "metadata": {},
     "output_type": "execute_result"
    }
   ],
   "source": [
    "A@B"
   ]
  },
  {
   "cell_type": "code",
   "execution_count": null,
   "id": "726e0f8b",
   "metadata": {},
   "outputs": [],
   "source": [
    "A @ B  =  [[2 * 1 + 1 * 3,   2 * 2 + 1 * 4], = [5, 8]\n",
    "           [3 * 1 + 2 * 3,   3 * 2 + 2 * 4]] = [9, 14]"
   ]
  },
  {
   "cell_type": "markdown",
   "id": "bda904de",
   "metadata": {},
   "source": [
    "### When we use * it multiplies with the coresponding position of the other matrix cordinate. \n",
    "### When we use @ it multiplies rows with columns and add those together."
   ]
  },
  {
   "cell_type": "markdown",
   "id": "4da65c85",
   "metadata": {},
   "source": [
    "#### b) Is BA equal to AB?"
   ]
  },
  {
   "cell_type": "code",
   "execution_count": 13,
   "id": "003e5d4e",
   "metadata": {
    "scrolled": true
   },
   "outputs": [
    {
     "data": {
      "text/plain": [
       "array([[ 8,  5],\n",
       "       [18, 11]])"
      ]
     },
     "execution_count": 13,
     "metadata": {},
     "output_type": "execute_result"
    }
   ],
   "source": [
    "B@A"
   ]
  },
  {
   "cell_type": "code",
   "execution_count": null,
   "id": "99873334",
   "metadata": {},
   "outputs": [],
   "source": [
    "A @ B  =  [[1 * 2 + 2 * 3,   1 * 1 + 2 * 2], = [8, 5]\n",
    "           [3 * 2 + 4 * 3,   3 * 1 + 4 * 2]] = [18, 11]"
   ]
  },
  {
   "cell_type": "code",
   "execution_count": 14,
   "id": "18439060",
   "metadata": {},
   "outputs": [
    {
     "data": {
      "text/plain": [
       "array([[2, 2],\n",
       "       [9, 8]])"
      ]
     },
     "execution_count": 14,
     "metadata": {},
     "output_type": "execute_result"
    }
   ],
   "source": [
    "B*A"
   ]
  },
  {
   "cell_type": "markdown",
   "id": "ef124668",
   "metadata": {},
   "source": [
    "### When we use * is gives us the same result. \n",
    "### Matrix multiplication is not commutative when we use @, because the rows and columns will not be the same as before. "
   ]
  },
  {
   "cell_type": "markdown",
   "id": "1a22def1",
   "metadata": {},
   "source": [
    "## Task 3"
   ]
  },
  {
   "cell_type": "code",
   "execution_count": 15,
   "id": "1f1594bd",
   "metadata": {},
   "outputs": [
    {
     "data": {
      "text/plain": [
       "array([[2, 1],\n",
       "       [3, 2]])"
      ]
     },
     "execution_count": 15,
     "metadata": {},
     "output_type": "execute_result"
    }
   ],
   "source": [
    "A"
   ]
  },
  {
   "cell_type": "code",
   "execution_count": 16,
   "id": "c79d2f34",
   "metadata": {},
   "outputs": [
    {
     "data": {
      "text/plain": [
       "array([[1, 2],\n",
       "       [3, 4]])"
      ]
     },
     "execution_count": 16,
     "metadata": {},
     "output_type": "execute_result"
    }
   ],
   "source": [
    "B"
   ]
  },
  {
   "cell_type": "markdown",
   "id": "bf8dbafe",
   "metadata": {},
   "source": [
    "#### a) A inverse"
   ]
  },
  {
   "cell_type": "code",
   "execution_count": 17,
   "id": "7f9dc359",
   "metadata": {},
   "outputs": [
    {
     "data": {
      "text/plain": [
       "array([[ 2., -1.],\n",
       "       [-3.,  2.]])"
      ]
     },
     "execution_count": 17,
     "metadata": {},
     "output_type": "execute_result"
    }
   ],
   "source": [
    "inv(A)"
   ]
  },
  {
   "cell_type": "markdown",
   "id": "fad108c3",
   "metadata": {},
   "source": [
    "#### b) B inverse"
   ]
  },
  {
   "cell_type": "code",
   "execution_count": 18,
   "id": "2f6d2ac5",
   "metadata": {},
   "outputs": [
    {
     "data": {
      "text/plain": [
       "array([[-2. ,  1. ],\n",
       "       [ 1.5, -0.5]])"
      ]
     },
     "execution_count": 18,
     "metadata": {},
     "output_type": "execute_result"
    }
   ],
   "source": [
    "inv(B)"
   ]
  },
  {
   "cell_type": "code",
   "execution_count": 19,
   "id": "c7e178f5",
   "metadata": {},
   "outputs": [
    {
     "data": {
      "text/plain": [
       "array([[-2. ,  1. ],\n",
       "       [ 1.5, -0.5]])"
      ]
     },
     "execution_count": 19,
     "metadata": {},
     "output_type": "execute_result"
    }
   ],
   "source": [
    "BI = np.array([[4,-2],[-3,1]])\n",
    "temp = 1/(1*4 - 2*3)\n",
    "temp*BI"
   ]
  },
  {
   "cell_type": "markdown",
   "id": "27e8f631",
   "metadata": {},
   "source": [
    "#### c) AA inverse"
   ]
  },
  {
   "cell_type": "code",
   "execution_count": 20,
   "id": "fb68f248",
   "metadata": {},
   "outputs": [
    {
     "data": {
      "text/plain": [
       "array([[1., 0.],\n",
       "       [0., 1.]])"
      ]
     },
     "execution_count": 20,
     "metadata": {},
     "output_type": "execute_result"
    }
   ],
   "source": [
    "A@inv(A)"
   ]
  },
  {
   "cell_type": "markdown",
   "id": "176c11c9",
   "metadata": {},
   "source": [
    "#### d) A inverse @ A"
   ]
  },
  {
   "cell_type": "code",
   "execution_count": 21,
   "id": "d1c0f4e5",
   "metadata": {},
   "outputs": [
    {
     "data": {
      "text/plain": [
       "array([[1., 0.],\n",
       "       [0., 1.]])"
      ]
     },
     "execution_count": 21,
     "metadata": {},
     "output_type": "execute_result"
    }
   ],
   "source": [
    "inv(A)@A"
   ]
  },
  {
   "cell_type": "markdown",
   "id": "a2044b33",
   "metadata": {},
   "source": [
    "#### e) BB inverse"
   ]
  },
  {
   "cell_type": "code",
   "execution_count": 26,
   "id": "d6840739",
   "metadata": {},
   "outputs": [
    {
     "data": {
      "text/plain": [
       "array([[1.00000000e+00, 1.11022302e-16],\n",
       "       [0.00000000e+00, 1.00000000e+00]])"
      ]
     },
     "execution_count": 26,
     "metadata": {},
     "output_type": "execute_result"
    }
   ],
   "source": [
    "B@inv(B)"
   ]
  },
  {
   "cell_type": "code",
   "execution_count": 27,
   "id": "4936c8fa",
   "metadata": {},
   "outputs": [
    {
     "data": {
      "text/plain": [
       "array([[-2. ,  1. ],\n",
       "       [ 1.5, -0.5]])"
      ]
     },
     "execution_count": 27,
     "metadata": {},
     "output_type": "execute_result"
    }
   ],
   "source": [
    "inv(B)"
   ]
  },
  {
   "cell_type": "code",
   "execution_count": 28,
   "id": "20f91bdd",
   "metadata": {},
   "outputs": [
    {
     "data": {
      "text/plain": [
       "array([[1, 2],\n",
       "       [3, 4]])"
      ]
     },
     "execution_count": 28,
     "metadata": {},
     "output_type": "execute_result"
    }
   ],
   "source": [
    "B"
   ]
  },
  {
   "cell_type": "code",
   "execution_count": null,
   "id": "f13d23ea",
   "metadata": {},
   "outputs": [],
   "source": [
    "B @ inv(B)  =  [[1 * -2 + 2 * 1.5,   1 * 1 + 2 * -0.5], = [1, 0]\n",
    "               [[3 * -2 + 4 * 1.5,   3 * 1 + 4 * -0.5]] = [0, 1]"
   ]
  },
  {
   "cell_type": "markdown",
   "id": "8a7904e2",
   "metadata": {},
   "source": [
    "#### f) B inverse @ B"
   ]
  },
  {
   "cell_type": "code",
   "execution_count": 23,
   "id": "6345afe8",
   "metadata": {},
   "outputs": [
    {
     "data": {
      "text/plain": [
       "array([[1.0000000e+00, 4.4408921e-16],\n",
       "       [0.0000000e+00, 1.0000000e+00]])"
      ]
     },
     "execution_count": 23,
     "metadata": {},
     "output_type": "execute_result"
    }
   ],
   "source": [
    "inv(B)@B"
   ]
  },
  {
   "cell_type": "markdown",
   "id": "81e5520b",
   "metadata": {},
   "source": [
    "### We can see that the results of A always gives [[1,0],[0,1]]. Also B should give the same result. This can be seen in our calculations.\n",
    "### These are called indentity matrix"
   ]
  },
  {
   "cell_type": "markdown",
   "id": "c14d6fc4",
   "metadata": {},
   "source": [
    "## Task 4"
   ]
  },
  {
   "cell_type": "code",
   "execution_count": 32,
   "id": "7e11a98b",
   "metadata": {},
   "outputs": [],
   "source": [
    "A = np.array([[ 2, 4 ],[ 1, 2]])"
   ]
  },
  {
   "cell_type": "markdown",
   "id": "55f14e73",
   "metadata": {},
   "source": [
    "#### a) inverse A"
   ]
  },
  {
   "cell_type": "code",
   "execution_count": 33,
   "id": "f9173ec7",
   "metadata": {
    "scrolled": true
   },
   "outputs": [
    {
     "ename": "LinAlgError",
     "evalue": "Singular matrix",
     "output_type": "error",
     "traceback": [
      "\u001b[1;31m---------------------------------------------------------------------------\u001b[0m",
      "\u001b[1;31mLinAlgError\u001b[0m                               Traceback (most recent call last)",
      "\u001b[1;32m~\\AppData\\Local\\Temp/ipykernel_4016/2779061488.py\u001b[0m in \u001b[0;36m<module>\u001b[1;34m\u001b[0m\n\u001b[1;32m----> 1\u001b[1;33m \u001b[0minv\u001b[0m\u001b[1;33m(\u001b[0m\u001b[0mA\u001b[0m\u001b[1;33m)\u001b[0m\u001b[1;33m\u001b[0m\u001b[1;33m\u001b[0m\u001b[0m\n\u001b[0m",
      "\u001b[1;32m<__array_function__ internals>\u001b[0m in \u001b[0;36minv\u001b[1;34m(*args, **kwargs)\u001b[0m\n",
      "\u001b[1;32m~\\anaconda3\\lib\\site-packages\\numpy\\linalg\\linalg.py\u001b[0m in \u001b[0;36minv\u001b[1;34m(a)\u001b[0m\n\u001b[0;32m    543\u001b[0m     \u001b[0msignature\u001b[0m \u001b[1;33m=\u001b[0m \u001b[1;34m'D->D'\u001b[0m \u001b[1;32mif\u001b[0m \u001b[0misComplexType\u001b[0m\u001b[1;33m(\u001b[0m\u001b[0mt\u001b[0m\u001b[1;33m)\u001b[0m \u001b[1;32melse\u001b[0m \u001b[1;34m'd->d'\u001b[0m\u001b[1;33m\u001b[0m\u001b[1;33m\u001b[0m\u001b[0m\n\u001b[0;32m    544\u001b[0m     \u001b[0mextobj\u001b[0m \u001b[1;33m=\u001b[0m \u001b[0mget_linalg_error_extobj\u001b[0m\u001b[1;33m(\u001b[0m\u001b[0m_raise_linalgerror_singular\u001b[0m\u001b[1;33m)\u001b[0m\u001b[1;33m\u001b[0m\u001b[1;33m\u001b[0m\u001b[0m\n\u001b[1;32m--> 545\u001b[1;33m     \u001b[0mainv\u001b[0m \u001b[1;33m=\u001b[0m \u001b[0m_umath_linalg\u001b[0m\u001b[1;33m.\u001b[0m\u001b[0minv\u001b[0m\u001b[1;33m(\u001b[0m\u001b[0ma\u001b[0m\u001b[1;33m,\u001b[0m \u001b[0msignature\u001b[0m\u001b[1;33m=\u001b[0m\u001b[0msignature\u001b[0m\u001b[1;33m,\u001b[0m \u001b[0mextobj\u001b[0m\u001b[1;33m=\u001b[0m\u001b[0mextobj\u001b[0m\u001b[1;33m)\u001b[0m\u001b[1;33m\u001b[0m\u001b[1;33m\u001b[0m\u001b[0m\n\u001b[0m\u001b[0;32m    546\u001b[0m     \u001b[1;32mreturn\u001b[0m \u001b[0mwrap\u001b[0m\u001b[1;33m(\u001b[0m\u001b[0mainv\u001b[0m\u001b[1;33m.\u001b[0m\u001b[0mastype\u001b[0m\u001b[1;33m(\u001b[0m\u001b[0mresult_t\u001b[0m\u001b[1;33m,\u001b[0m \u001b[0mcopy\u001b[0m\u001b[1;33m=\u001b[0m\u001b[1;32mFalse\u001b[0m\u001b[1;33m)\u001b[0m\u001b[1;33m)\u001b[0m\u001b[1;33m\u001b[0m\u001b[1;33m\u001b[0m\u001b[0m\n\u001b[0;32m    547\u001b[0m \u001b[1;33m\u001b[0m\u001b[0m\n",
      "\u001b[1;32m~\\anaconda3\\lib\\site-packages\\numpy\\linalg\\linalg.py\u001b[0m in \u001b[0;36m_raise_linalgerror_singular\u001b[1;34m(err, flag)\u001b[0m\n\u001b[0;32m     86\u001b[0m \u001b[1;33m\u001b[0m\u001b[0m\n\u001b[0;32m     87\u001b[0m \u001b[1;32mdef\u001b[0m \u001b[0m_raise_linalgerror_singular\u001b[0m\u001b[1;33m(\u001b[0m\u001b[0merr\u001b[0m\u001b[1;33m,\u001b[0m \u001b[0mflag\u001b[0m\u001b[1;33m)\u001b[0m\u001b[1;33m:\u001b[0m\u001b[1;33m\u001b[0m\u001b[1;33m\u001b[0m\u001b[0m\n\u001b[1;32m---> 88\u001b[1;33m     \u001b[1;32mraise\u001b[0m \u001b[0mLinAlgError\u001b[0m\u001b[1;33m(\u001b[0m\u001b[1;34m\"Singular matrix\"\u001b[0m\u001b[1;33m)\u001b[0m\u001b[1;33m\u001b[0m\u001b[1;33m\u001b[0m\u001b[0m\n\u001b[0m\u001b[0;32m     89\u001b[0m \u001b[1;33m\u001b[0m\u001b[0m\n\u001b[0;32m     90\u001b[0m \u001b[1;32mdef\u001b[0m \u001b[0m_raise_linalgerror_nonposdef\u001b[0m\u001b[1;33m(\u001b[0m\u001b[0merr\u001b[0m\u001b[1;33m,\u001b[0m \u001b[0mflag\u001b[0m\u001b[1;33m)\u001b[0m\u001b[1;33m:\u001b[0m\u001b[1;33m\u001b[0m\u001b[1;33m\u001b[0m\u001b[0m\n",
      "\u001b[1;31mLinAlgError\u001b[0m: Singular matrix"
     ]
    }
   ],
   "source": [
    "inv(A)"
   ]
  },
  {
   "cell_type": "code",
   "execution_count": 39,
   "id": "a1fc7adb",
   "metadata": {},
   "outputs": [
    {
     "data": {
      "text/plain": [
       "0"
      ]
     },
     "execution_count": 39,
     "metadata": {},
     "output_type": "execute_result"
    }
   ],
   "source": [
    "denominator = 2*2 - 4*1\n",
    "denominator"
   ]
  },
  {
   "cell_type": "markdown",
   "id": "ab71371e",
   "metadata": {},
   "source": [
    "### The denominator is 0 and you cant divide something with 0, therfore you cant have an inverse of this matrix."
   ]
  },
  {
   "cell_type": "markdown",
   "id": "0a04b21e",
   "metadata": {},
   "source": [
    "## Task 5"
   ]
  },
  {
   "cell_type": "code",
   "execution_count": 57,
   "id": "013b5fd2",
   "metadata": {
    "scrolled": true
   },
   "outputs": [
    {
     "data": {
      "image/png": "[encoded data removed]",
      "text/plain": [
       "<Figure size 432x288 with 1 Axes>"
      ]
     },
     "metadata": {
      "needs_background": "light"
     },
     "output_type": "display_data"
    }
   ],
   "source": [
    "ax = plt.axes()\n",
    "\n",
    "ax.arrow(2.0, 1.0, 4.0, 2.0, head_width=0.1, head_length=0.2, fc='lightblue', ec='black')\n",
    "\n",
    "plt.grid()\n",
    "\n",
    "plt.xlim(0,7)\n",
    "plt.ylim(0,7)\n",
    "\n",
    "#plt.title('How to plot a vector in matplotlib ?',fontsize=10)\n",
    "\n",
    "plt.savefig('firstVector.png', bbox_inches='tight')\n",
    "plt.show()\n",
    "plt.close()"
   ]
  },
  {
   "cell_type": "code",
   "execution_count": 63,
   "id": "7b0e2960",
   "metadata": {},
   "outputs": [
    {
     "data": {
      "text/plain": [
       "array([[ 0.375 , -0.0625],\n",
       "       [-0.125 ,  0.1875]])"
      ]
     },
     "execution_count": 63,
     "metadata": {},
     "output_type": "execute_result"
    }
   ],
   "source": [
    "firstMatrix = np.array([[ 3, 1 ],[ 2, 6]])\n",
    "rotationMatrix = inv(firstMatrix)\n",
    "rotationMatrix"
   ]
  },
  {
   "cell_type": "code",
   "execution_count": 65,
   "id": "86fd7a8b",
   "metadata": {},
   "outputs": [
    {
     "data": {
      "text/plain": [
       "array([[1, 6],\n",
       "       [3, 2]])"
      ]
     },
     "execution_count": 65,
     "metadata": {},
     "output_type": "execute_result"
    }
   ],
   "source": [
    "np.rot90(firstMatrix)"
   ]
  },
  {
   "cell_type": "markdown",
   "id": "a8ec7872",
   "metadata": {},
   "source": [
    "## Task 6"
   ]
  },
  {
   "cell_type": "code",
   "execution_count": null,
   "id": "58774cf3",
   "metadata": {},
   "outputs": [],
   "source": []
  }
 ],
 "metadata": {
  "kernelspec": {
   "display_name": "Python 3 (ipykernel)",
   "language": "python",
   "name": "python3"
  },
  "language_info": {
   "codemirror_mode": {
    "name": "ipython",
    "version": 3
   },
   "file_extension": ".py",
   "mimetype": "text/x-python",
   "name": "python",
   "nbconvert_exporter": "python",
   "pygments_lexer": "ipython3",
   "version": "3.9.7"
  }
 },
 "nbformat": 4,
 "nbformat_minor": 5
}

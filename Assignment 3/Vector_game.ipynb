{
 "cells": [
  {
   "cell_type": "markdown",
   "id": "970c0e93",
   "metadata": {},
   "source": [
    "## Vector Game"
   ]
  },
  {
   "cell_type": "code",
   "execution_count": 3,
   "id": "7be3efc3",
   "metadata": {},
   "outputs": [],
   "source": [
    "import pandas as pd\n",
    "import numpy as np"
   ]
  },
  {
   "cell_type": "code",
   "execution_count": 4,
   "id": "2967eb4c",
   "metadata": {},
   "outputs": [],
   "source": [
    "df = pd.read_excel('./Vector_Race_results.xlsx')"
   ]
  },
  {
   "cell_type": "code",
   "execution_count": 5,
   "id": "4ad693a1",
   "metadata": {},
   "outputs": [
    {
     "data": {
      "text/html": [
       "<div>\n",
       "<style scoped>\n",
       "    .dataframe tbody tr th:only-of-type {\n",
       "        vertical-align: middle;\n",
       "    }\n",
       "\n",
       "    .dataframe tbody tr th {\n",
       "        vertical-align: top;\n",
       "    }\n",
       "\n",
       "    .dataframe thead th {\n",
       "        text-align: right;\n",
       "    }\n",
       "</style>\n",
       "<table border=\"1\" class=\"dataframe\">\n",
       "  <thead>\n",
       "    <tr style=\"text-align: right;\">\n",
       "      <th></th>\n",
       "      <th>Jacob x</th>\n",
       "      <th>Jacob y</th>\n",
       "      <th>Unnamed: 2</th>\n",
       "      <th>Christian x</th>\n",
       "      <th>Christian y</th>\n",
       "      <th>Unnamed: 5</th>\n",
       "      <th>Mia x</th>\n",
       "      <th>Mia y</th>\n",
       "    </tr>\n",
       "  </thead>\n",
       "  <tbody>\n",
       "    <tr>\n",
       "      <th>0</th>\n",
       "      <td>0</td>\n",
       "      <td>0</td>\n",
       "      <td>NaN</td>\n",
       "      <td>0.0</td>\n",
       "      <td>0.0</td>\n",
       "      <td>NaN</td>\n",
       "      <td>0</td>\n",
       "      <td>0</td>\n",
       "    </tr>\n",
       "    <tr>\n",
       "      <th>1</th>\n",
       "      <td>1</td>\n",
       "      <td>1</td>\n",
       "      <td>NaN</td>\n",
       "      <td>1.0</td>\n",
       "      <td>1.0</td>\n",
       "      <td>NaN</td>\n",
       "      <td>0</td>\n",
       "      <td>1</td>\n",
       "    </tr>\n",
       "    <tr>\n",
       "      <th>2</th>\n",
       "      <td>1</td>\n",
       "      <td>2</td>\n",
       "      <td>NaN</td>\n",
       "      <td>1.0</td>\n",
       "      <td>2.0</td>\n",
       "      <td>NaN</td>\n",
       "      <td>0</td>\n",
       "      <td>1</td>\n",
       "    </tr>\n",
       "    <tr>\n",
       "      <th>3</th>\n",
       "      <td>1</td>\n",
       "      <td>3</td>\n",
       "      <td>NaN</td>\n",
       "      <td>2.0</td>\n",
       "      <td>3.0</td>\n",
       "      <td>NaN</td>\n",
       "      <td>0</td>\n",
       "      <td>2</td>\n",
       "    </tr>\n",
       "    <tr>\n",
       "      <th>4</th>\n",
       "      <td>2</td>\n",
       "      <td>3</td>\n",
       "      <td>NaN</td>\n",
       "      <td>1.0</td>\n",
       "      <td>3.0</td>\n",
       "      <td>NaN</td>\n",
       "      <td>1</td>\n",
       "      <td>3</td>\n",
       "    </tr>\n",
       "  </tbody>\n",
       "</table>\n",
       "</div>"
      ],
      "text/plain": [
       "   Jacob x  Jacob y Unnamed: 2  Christian x  Christian y  Unnamed: 5  Mia x  \\\n",
       "0        0        0        NaN          0.0          0.0         NaN      0   \n",
       "1        1        1        NaN          1.0          1.0         NaN      0   \n",
       "2        1        2        NaN          1.0          2.0         NaN      0   \n",
       "3        1        3        NaN          2.0          3.0         NaN      0   \n",
       "4        2        3        NaN          1.0          3.0         NaN      1   \n",
       "\n",
       "   Mia y  \n",
       "0      0  \n",
       "1      1  \n",
       "2      1  \n",
       "3      2  \n",
       "4      3  "
      ]
     },
     "execution_count": 5,
     "metadata": {},
     "output_type": "execute_result"
    }
   ],
   "source": [
    "df.head()"
   ]
  },
  {
   "cell_type": "code",
   "execution_count": 6,
   "id": "51b2a7ff",
   "metadata": {},
   "outputs": [],
   "source": [
    "df.reset_index(drop=True, inplace=True)"
   ]
  },
  {
   "cell_type": "code",
   "execution_count": 7,
   "id": "b5ca0226",
   "metadata": {},
   "outputs": [],
   "source": [
    "df1 = df.iloc[:,:2]"
   ]
  },
  {
   "cell_type": "code",
   "execution_count": 8,
   "id": "29f66e3d",
   "metadata": {},
   "outputs": [
    {
     "data": {
      "text/html": [
       "<div>\n",
       "<style scoped>\n",
       "    .dataframe tbody tr th:only-of-type {\n",
       "        vertical-align: middle;\n",
       "    }\n",
       "\n",
       "    .dataframe tbody tr th {\n",
       "        vertical-align: top;\n",
       "    }\n",
       "\n",
       "    .dataframe thead th {\n",
       "        text-align: right;\n",
       "    }\n",
       "</style>\n",
       "<table border=\"1\" class=\"dataframe\">\n",
       "  <thead>\n",
       "    <tr style=\"text-align: right;\">\n",
       "      <th></th>\n",
       "      <th>Jacob x</th>\n",
       "      <th>Jacob y</th>\n",
       "    </tr>\n",
       "  </thead>\n",
       "  <tbody>\n",
       "    <tr>\n",
       "      <th>0</th>\n",
       "      <td>0</td>\n",
       "      <td>0</td>\n",
       "    </tr>\n",
       "    <tr>\n",
       "      <th>1</th>\n",
       "      <td>1</td>\n",
       "      <td>1</td>\n",
       "    </tr>\n",
       "    <tr>\n",
       "      <th>2</th>\n",
       "      <td>1</td>\n",
       "      <td>2</td>\n",
       "    </tr>\n",
       "    <tr>\n",
       "      <th>3</th>\n",
       "      <td>1</td>\n",
       "      <td>3</td>\n",
       "    </tr>\n",
       "    <tr>\n",
       "      <th>4</th>\n",
       "      <td>2</td>\n",
       "      <td>3</td>\n",
       "    </tr>\n",
       "    <tr>\n",
       "      <th>5</th>\n",
       "      <td>3</td>\n",
       "      <td>4</td>\n",
       "    </tr>\n",
       "    <tr>\n",
       "      <th>6</th>\n",
       "      <td>2</td>\n",
       "      <td>3</td>\n",
       "    </tr>\n",
       "    <tr>\n",
       "      <th>7</th>\n",
       "      <td>1</td>\n",
       "      <td>1</td>\n",
       "    </tr>\n",
       "    <tr>\n",
       "      <th>8</th>\n",
       "      <td>1</td>\n",
       "      <td>-1</td>\n",
       "    </tr>\n",
       "    <tr>\n",
       "      <th>9</th>\n",
       "      <td>2</td>\n",
       "      <td>-2</td>\n",
       "    </tr>\n",
       "    <tr>\n",
       "      <th>10</th>\n",
       "      <td>3</td>\n",
       "      <td>-3</td>\n",
       "    </tr>\n",
       "    <tr>\n",
       "      <th>11</th>\n",
       "      <td>2</td>\n",
       "      <td>-3</td>\n",
       "    </tr>\n",
       "    <tr>\n",
       "      <th>12</th>\n",
       "      <td>1</td>\n",
       "      <td>-3</td>\n",
       "    </tr>\n",
       "    <tr>\n",
       "      <th>13</th>\n",
       "      <td>0</td>\n",
       "      <td>-2</td>\n",
       "    </tr>\n",
       "    <tr>\n",
       "      <th>14</th>\n",
       "      <td>-1</td>\n",
       "      <td>-1</td>\n",
       "    </tr>\n",
       "    <tr>\n",
       "      <th>15</th>\n",
       "      <td>-2</td>\n",
       "      <td>-1</td>\n",
       "    </tr>\n",
       "    <tr>\n",
       "      <th>16</th>\n",
       "      <td>-3</td>\n",
       "      <td>-1</td>\n",
       "    </tr>\n",
       "    <tr>\n",
       "      <th>17</th>\n",
       "      <td>-4</td>\n",
       "      <td>-1</td>\n",
       "    </tr>\n",
       "    <tr>\n",
       "      <th>18</th>\n",
       "      <td>-5</td>\n",
       "      <td>0</td>\n",
       "    </tr>\n",
       "    <tr>\n",
       "      <th>19</th>\n",
       "      <td>0</td>\n",
       "      <td>0</td>\n",
       "    </tr>\n",
       "  </tbody>\n",
       "</table>\n",
       "</div>"
      ],
      "text/plain": [
       "    Jacob x  Jacob y\n",
       "0         0        0\n",
       "1         1        1\n",
       "2         1        2\n",
       "3         1        3\n",
       "4         2        3\n",
       "5         3        4\n",
       "6         2        3\n",
       "7         1        1\n",
       "8         1       -1\n",
       "9         2       -2\n",
       "10        3       -3\n",
       "11        2       -3\n",
       "12        1       -3\n",
       "13        0       -2\n",
       "14       -1       -1\n",
       "15       -2       -1\n",
       "16       -3       -1\n",
       "17       -4       -1\n",
       "18       -5        0\n",
       "19        0        0"
      ]
     },
     "execution_count": 8,
     "metadata": {},
     "output_type": "execute_result"
    }
   ],
   "source": [
    "df1"
   ]
  },
  {
   "cell_type": "code",
   "execution_count": 9,
   "id": "9d725516",
   "metadata": {},
   "outputs": [
    {
     "data": {
      "text/html": [
       "<div>\n",
       "<style scoped>\n",
       "    .dataframe tbody tr th:only-of-type {\n",
       "        vertical-align: middle;\n",
       "    }\n",
       "\n",
       "    .dataframe tbody tr th {\n",
       "        vertical-align: top;\n",
       "    }\n",
       "\n",
       "    .dataframe thead th {\n",
       "        text-align: right;\n",
       "    }\n",
       "</style>\n",
       "<table border=\"1\" class=\"dataframe\">\n",
       "  <thead>\n",
       "    <tr style=\"text-align: right;\">\n",
       "      <th></th>\n",
       "      <th>Christian x</th>\n",
       "      <th>Christian y</th>\n",
       "    </tr>\n",
       "  </thead>\n",
       "  <tbody>\n",
       "    <tr>\n",
       "      <th>0</th>\n",
       "      <td>0.0</td>\n",
       "      <td>0.0</td>\n",
       "    </tr>\n",
       "    <tr>\n",
       "      <th>1</th>\n",
       "      <td>1.0</td>\n",
       "      <td>1.0</td>\n",
       "    </tr>\n",
       "    <tr>\n",
       "      <th>2</th>\n",
       "      <td>1.0</td>\n",
       "      <td>2.0</td>\n",
       "    </tr>\n",
       "    <tr>\n",
       "      <th>3</th>\n",
       "      <td>2.0</td>\n",
       "      <td>3.0</td>\n",
       "    </tr>\n",
       "    <tr>\n",
       "      <th>4</th>\n",
       "      <td>1.0</td>\n",
       "      <td>3.0</td>\n",
       "    </tr>\n",
       "    <tr>\n",
       "      <th>5</th>\n",
       "      <td>2.0</td>\n",
       "      <td>3.0</td>\n",
       "    </tr>\n",
       "    <tr>\n",
       "      <th>6</th>\n",
       "      <td>2.0</td>\n",
       "      <td>2.0</td>\n",
       "    </tr>\n",
       "    <tr>\n",
       "      <th>7</th>\n",
       "      <td>2.0</td>\n",
       "      <td>1.0</td>\n",
       "    </tr>\n",
       "    <tr>\n",
       "      <th>8</th>\n",
       "      <td>2.0</td>\n",
       "      <td>0.0</td>\n",
       "    </tr>\n",
       "    <tr>\n",
       "      <th>9</th>\n",
       "      <td>2.0</td>\n",
       "      <td>-1.0</td>\n",
       "    </tr>\n",
       "    <tr>\n",
       "      <th>10</th>\n",
       "      <td>1.0</td>\n",
       "      <td>-2.0</td>\n",
       "    </tr>\n",
       "    <tr>\n",
       "      <th>11</th>\n",
       "      <td>0.0</td>\n",
       "      <td>-3.0</td>\n",
       "    </tr>\n",
       "    <tr>\n",
       "      <th>12</th>\n",
       "      <td>-1.0</td>\n",
       "      <td>-4.0</td>\n",
       "    </tr>\n",
       "    <tr>\n",
       "      <th>13</th>\n",
       "      <td>-2.0</td>\n",
       "      <td>-3.0</td>\n",
       "    </tr>\n",
       "    <tr>\n",
       "      <th>14</th>\n",
       "      <td>-2.0</td>\n",
       "      <td>-2.0</td>\n",
       "    </tr>\n",
       "    <tr>\n",
       "      <th>15</th>\n",
       "      <td>-3.0</td>\n",
       "      <td>-1.0</td>\n",
       "    </tr>\n",
       "    <tr>\n",
       "      <th>16</th>\n",
       "      <td>-4.0</td>\n",
       "      <td>0.0</td>\n",
       "    </tr>\n",
       "    <tr>\n",
       "      <th>17</th>\n",
       "      <td>-3.0</td>\n",
       "      <td>-1.0</td>\n",
       "    </tr>\n",
       "    <tr>\n",
       "      <th>18</th>\n",
       "      <td>0.0</td>\n",
       "      <td>0.0</td>\n",
       "    </tr>\n",
       "  </tbody>\n",
       "</table>\n",
       "</div>"
      ],
      "text/plain": [
       "    Christian x  Christian y\n",
       "0           0.0          0.0\n",
       "1           1.0          1.0\n",
       "2           1.0          2.0\n",
       "3           2.0          3.0\n",
       "4           1.0          3.0\n",
       "5           2.0          3.0\n",
       "6           2.0          2.0\n",
       "7           2.0          1.0\n",
       "8           2.0          0.0\n",
       "9           2.0         -1.0\n",
       "10          1.0         -2.0\n",
       "11          0.0         -3.0\n",
       "12         -1.0         -4.0\n",
       "13         -2.0         -3.0\n",
       "14         -2.0         -2.0\n",
       "15         -3.0         -1.0\n",
       "16         -4.0          0.0\n",
       "17         -3.0         -1.0\n",
       "18          0.0          0.0"
      ]
     },
     "execution_count": 9,
     "metadata": {},
     "output_type": "execute_result"
    }
   ],
   "source": [
    "df2 = df.iloc[:,3:5]\n",
    "df2 = df2.drop(19)\n",
    "df2"
   ]
  },
  {
   "cell_type": "code",
   "execution_count": 10,
   "id": "0d1347c0",
   "metadata": {},
   "outputs": [
    {
     "data": {
      "text/html": [
       "<div>\n",
       "<style scoped>\n",
       "    .dataframe tbody tr th:only-of-type {\n",
       "        vertical-align: middle;\n",
       "    }\n",
       "\n",
       "    .dataframe tbody tr th {\n",
       "        vertical-align: top;\n",
       "    }\n",
       "\n",
       "    .dataframe thead th {\n",
       "        text-align: right;\n",
       "    }\n",
       "</style>\n",
       "<table border=\"1\" class=\"dataframe\">\n",
       "  <thead>\n",
       "    <tr style=\"text-align: right;\">\n",
       "      <th></th>\n",
       "      <th>Mia x</th>\n",
       "      <th>Mia y</th>\n",
       "    </tr>\n",
       "  </thead>\n",
       "  <tbody>\n",
       "    <tr>\n",
       "      <th>0</th>\n",
       "      <td>0</td>\n",
       "      <td>0</td>\n",
       "    </tr>\n",
       "    <tr>\n",
       "      <th>1</th>\n",
       "      <td>0</td>\n",
       "      <td>1</td>\n",
       "    </tr>\n",
       "    <tr>\n",
       "      <th>2</th>\n",
       "      <td>0</td>\n",
       "      <td>1</td>\n",
       "    </tr>\n",
       "    <tr>\n",
       "      <th>3</th>\n",
       "      <td>0</td>\n",
       "      <td>2</td>\n",
       "    </tr>\n",
       "    <tr>\n",
       "      <th>4</th>\n",
       "      <td>1</td>\n",
       "      <td>3</td>\n",
       "    </tr>\n",
       "    <tr>\n",
       "      <th>5</th>\n",
       "      <td>2</td>\n",
       "      <td>3</td>\n",
       "    </tr>\n",
       "    <tr>\n",
       "      <th>6</th>\n",
       "      <td>2</td>\n",
       "      <td>2</td>\n",
       "    </tr>\n",
       "    <tr>\n",
       "      <th>7</th>\n",
       "      <td>3</td>\n",
       "      <td>1</td>\n",
       "    </tr>\n",
       "    <tr>\n",
       "      <th>8</th>\n",
       "      <td>2</td>\n",
       "      <td>0</td>\n",
       "    </tr>\n",
       "    <tr>\n",
       "      <th>9</th>\n",
       "      <td>1</td>\n",
       "      <td>-1</td>\n",
       "    </tr>\n",
       "    <tr>\n",
       "      <th>10</th>\n",
       "      <td>1</td>\n",
       "      <td>-2</td>\n",
       "    </tr>\n",
       "    <tr>\n",
       "      <th>11</th>\n",
       "      <td>0</td>\n",
       "      <td>-3</td>\n",
       "    </tr>\n",
       "    <tr>\n",
       "      <th>12</th>\n",
       "      <td>0</td>\n",
       "      <td>-3</td>\n",
       "    </tr>\n",
       "    <tr>\n",
       "      <th>13</th>\n",
       "      <td>-1</td>\n",
       "      <td>-3</td>\n",
       "    </tr>\n",
       "    <tr>\n",
       "      <th>14</th>\n",
       "      <td>-2</td>\n",
       "      <td>-2</td>\n",
       "    </tr>\n",
       "    <tr>\n",
       "      <th>15</th>\n",
       "      <td>-3</td>\n",
       "      <td>-1</td>\n",
       "    </tr>\n",
       "    <tr>\n",
       "      <th>16</th>\n",
       "      <td>-4</td>\n",
       "      <td>0</td>\n",
       "    </tr>\n",
       "    <tr>\n",
       "      <th>17</th>\n",
       "      <td>-4</td>\n",
       "      <td>-1</td>\n",
       "    </tr>\n",
       "    <tr>\n",
       "      <th>18</th>\n",
       "      <td>-3</td>\n",
       "      <td>-1</td>\n",
       "    </tr>\n",
       "    <tr>\n",
       "      <th>19</th>\n",
       "      <td>0</td>\n",
       "      <td>0</td>\n",
       "    </tr>\n",
       "  </tbody>\n",
       "</table>\n",
       "</div>"
      ],
      "text/plain": [
       "    Mia x  Mia y\n",
       "0       0      0\n",
       "1       0      1\n",
       "2       0      1\n",
       "3       0      2\n",
       "4       1      3\n",
       "5       2      3\n",
       "6       2      2\n",
       "7       3      1\n",
       "8       2      0\n",
       "9       1     -1\n",
       "10      1     -2\n",
       "11      0     -3\n",
       "12      0     -3\n",
       "13     -1     -3\n",
       "14     -2     -2\n",
       "15     -3     -1\n",
       "16     -4      0\n",
       "17     -4     -1\n",
       "18     -3     -1\n",
       "19      0      0"
      ]
     },
     "execution_count": 10,
     "metadata": {},
     "output_type": "execute_result"
    }
   ],
   "source": [
    "df3 = df.iloc[:,6:8]\n",
    "df3"
   ]
  },
  {
   "cell_type": "code",
   "execution_count": 38,
   "id": "ca319442",
   "metadata": {},
   "outputs": [],
   "source": [
    "from typing import List \n",
    "Vector = List[float]"
   ]
  },
  {
   "cell_type": "code",
   "execution_count": 12,
   "id": "e616da64",
   "metadata": {},
   "outputs": [],
   "source": [
    "def dist(v1:Vector, v2:Vector) ->Vector:\n",
    "    return [xi+yi for xi, yi in zip(v1, v2)]"
   ]
  },
  {
   "cell_type": "code",
   "execution_count": 40,
   "id": "fb3ccd48",
   "metadata": {},
   "outputs": [
    {
     "data": {
      "text/plain": [
       "4"
      ]
     },
     "execution_count": 40,
     "metadata": {},
     "output_type": "execute_result"
    }
   ],
   "source": [
    "p1 = dist(df1['Jacob x'], df1['Jacob y'])\n",
    "sum(p1)"
   ]
  },
  {
   "cell_type": "code",
   "execution_count": 14,
   "id": "5068a379",
   "metadata": {},
   "outputs": [
    {
     "data": {
      "text/plain": [
       "-1.0"
      ]
     },
     "execution_count": 14,
     "metadata": {},
     "output_type": "execute_result"
    }
   ],
   "source": [
    "p2 = dist(df2['Christian x'], df2['Christian y'])\n",
    "sum(p2)"
   ]
  },
  {
   "cell_type": "code",
   "execution_count": 15,
   "id": "48709866",
   "metadata": {},
   "outputs": [
    {
     "data": {
      "text/plain": [
       "-9"
      ]
     },
     "execution_count": 15,
     "metadata": {},
     "output_type": "execute_result"
    }
   ],
   "source": [
    "p3 = dist(df3['Mia x'], df3['Mia y'])\n",
    "sum(p3)"
   ]
  },
  {
   "cell_type": "code",
   "execution_count": 16,
   "id": "2969c5ea",
   "metadata": {},
   "outputs": [],
   "source": [
    "def scal(c:float, v:Vector)->Vector:\n",
    "    return[c*vi for vi in v]"
   ]
  },
  {
   "cell_type": "code",
   "execution_count": 17,
   "id": "6fb65ea6",
   "metadata": {},
   "outputs": [
    {
     "data": {
      "text/plain": [
       "[0,\n",
       " 10,\n",
       " 15,\n",
       " 20,\n",
       " 25,\n",
       " 35,\n",
       " 25,\n",
       " 10,\n",
       " 0,\n",
       " 0,\n",
       " 0,\n",
       " -5,\n",
       " -10,\n",
       " -10,\n",
       " -10,\n",
       " -15,\n",
       " -20,\n",
       " -25,\n",
       " -25,\n",
       " 0]"
      ]
     },
     "execution_count": 17,
     "metadata": {},
     "output_type": "execute_result"
    }
   ],
   "source": [
    "p15 = scal(5, p1)\n",
    "p15"
   ]
  },
  {
   "cell_type": "code",
   "execution_count": 18,
   "id": "b3db56ef",
   "metadata": {},
   "outputs": [],
   "source": [
    "def dotp(v1:Vector, v2:Vector)-> float:\n",
    "    return sum(v1i*v2i for v1i, v2i in zip(v1, v2))"
   ]
  },
  {
   "cell_type": "code",
   "execution_count": 19,
   "id": "51216fc5",
   "metadata": {},
   "outputs": [
    {
     "data": {
      "text/plain": [
       "193"
      ]
     },
     "execution_count": 19,
     "metadata": {},
     "output_type": "execute_result"
    }
   ],
   "source": [
    "m = dotp(p1, p2)\n",
    "int(m)"
   ]
  },
  {
   "cell_type": "code",
   "execution_count": 20,
   "id": "96e16f91",
   "metadata": {},
   "outputs": [],
   "source": [
    "def sqsum(v:Vector)->float:\n",
    "    return (dotp(v, v))"
   ]
  },
  {
   "cell_type": "code",
   "execution_count": 21,
   "id": "5899c03c",
   "metadata": {},
   "outputs": [
    {
     "data": {
      "text/plain": [
       "220"
      ]
     },
     "execution_count": 21,
     "metadata": {},
     "output_type": "execute_result"
    }
   ],
   "source": [
    "ps1 = sqsum(p1)\n",
    "ps1"
   ]
  },
  {
   "cell_type": "code",
   "execution_count": 22,
   "id": "60296872",
   "metadata": {},
   "outputs": [],
   "source": [
    "import math\n",
    "def magnit(v:Vector)-> float:\n",
    "    return math.sqrt(sqsum(v))"
   ]
  },
  {
   "cell_type": "code",
   "execution_count": 131,
   "id": "e0b62510",
   "metadata": {},
   "outputs": [],
   "source": [
    "def mag(v:Vector)-> float:\n",
    "    return math.sqrt(sum(v1i*v2i for v1i, v2i in zip(v, v)))"
   ]
  },
  {
   "cell_type": "code",
   "execution_count": 139,
   "id": "d108844a",
   "metadata": {},
   "outputs": [],
   "source": [
    "def unit(v:Vector)-> np.array:\n",
    "    return np.array([vi/mag(v) for vi in v])"
   ]
  },
  {
   "cell_type": "code",
   "execution_count": 157,
   "id": "6c5c1205",
   "metadata": {},
   "outputs": [],
   "source": [
    "def rot90(v:Vector) -> np.array:\n",
    "    v.reverse()\n",
    "    return np.array([v[0]*(-1),v[1]])"
   ]
  },
  {
   "cell_type": "code",
   "execution_count": 158,
   "id": "b8632090",
   "metadata": {},
   "outputs": [],
   "source": [
    "def scal(c:float, v:Vector)->Vector:\n",
    "    return[c*vi for vi in v]"
   ]
  },
  {
   "cell_type": "code",
   "execution_count": 176,
   "id": "784b68b5",
   "metadata": {},
   "outputs": [],
   "source": [
    "a = [3,2]\n",
    "b = [8,7]\n",
    "c = [1,5]"
   ]
  },
  {
   "cell_type": "code",
   "execution_count": 177,
   "id": "b190bb1e",
   "metadata": {},
   "outputs": [],
   "source": [
    "def calvector(v1:Vector, v2:Vector, v3:Vector)-> Vector:\n",
    "    return([v1i+v2i-v3i for v1i,v2i,v3i in zip(v1,v2,v3)]) "
   ]
  },
  {
   "cell_type": "code",
   "execution_count": 180,
   "id": "337d601e",
   "metadata": {},
   "outputs": [
    {
     "data": {
      "text/plain": [
       "5"
      ]
     },
     "execution_count": 180,
     "metadata": {},
     "output_type": "execute_result"
    }
   ],
   "source": [
    "rest = np.dot(rot90(a),a)\n",
    "rest"
   ]
  },
  {
   "cell_type": "code",
   "execution_count": 179,
   "id": "40598c1c",
   "metadata": {},
   "outputs": [
    {
     "data": {
      "text/plain": [
       "38.3275357934736"
      ]
     },
     "execution_count": 179,
     "metadata": {},
     "output_type": "execute_result"
    }
   ],
   "source": [
    "rest1 = mag(a)*mag(b)\n",
    "rest1"
   ]
  },
  {
   "cell_type": "markdown",
   "id": "fd11914c",
   "metadata": {},
   "source": []
  }
 ],
 "metadata": {
  "kernelspec": {
   "display_name": "Python 3 (ipykernel)",
   "language": "python",
   "name": "python3"
  },
  "language_info": {
   "codemirror_mode": {
    "name": "ipython",
    "version": 3
   },
   "file_extension": ".py",
   "mimetype": "text/x-python",
   "name": "python",
   "nbconvert_exporter": "python",
   "pygments_lexer": "ipython3",
   "version": "3.9.7"
  }
 },
 "nbformat": 4,
 "nbformat_minor": 5
}

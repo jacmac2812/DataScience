{
 "cells": [
  {
   "cell_type": "markdown",
   "id": "ed25563c",
   "metadata": {},
   "source": [
    "## Pyhton"
   ]
  },
  {
   "cell_type": "code",
   "execution_count": 10,
   "id": "dfe65835",
   "metadata": {},
   "outputs": [],
   "source": [
    "import math\n",
    "import numpy as np\n",
    "\n",
    "from typing import List \n",
    "Vector = List[float]\n",
    "\n",
    "v1 = [3,4]"
   ]
  },
  {
   "cell_type": "markdown",
   "id": "579077cc",
   "metadata": {},
   "source": [
    "#### s) Implement a function mag(vec) to return the magnitude of a 2-dimensional vector."
   ]
  },
  {
   "cell_type": "code",
   "execution_count": 8,
   "id": "1430ec2a",
   "metadata": {},
   "outputs": [
    {
     "data": {
      "text/plain": [
       "5.0"
      ]
     },
     "execution_count": 8,
     "metadata": {},
     "output_type": "execute_result"
    }
   ],
   "source": [
    "def mag(v:Vector)-> float:\n",
    "    return math.sqrt(sum(v1i*v2i for v1i, v2i in zip(v, v)))\n",
    "\n",
    "mag(v1)"
   ]
  },
  {
   "cell_type": "markdown",
   "id": "cfc97f2d",
   "metadata": {},
   "source": [
    "#### t) Implement a unit(vec) function to return the unit vector of a2-dimensional vector (as a numpy array)."
   ]
  },
  {
   "cell_type": "code",
   "execution_count": 11,
   "id": "e32592ba",
   "metadata": {},
   "outputs": [
    {
     "data": {
      "text/plain": [
       "array([0.6, 0.8])"
      ]
     },
     "execution_count": 11,
     "metadata": {},
     "output_type": "execute_result"
    }
   ],
   "source": [
    "def unit(v:Vector)-> np.array:\n",
    "    return np.array([vi/mag(v) for vi in v])\n",
    "\n",
    "unit(v1)"
   ]
  },
  {
   "cell_type": "markdown",
   "id": "0a3f3595",
   "metadata": {},
   "source": [
    "#### u) Implement rot90(vec). It must return a new numpy array, that is a 90 degree rotation of the vec input."
   ]
  },
  {
   "cell_type": "code",
   "execution_count": 12,
   "id": "63758023",
   "metadata": {},
   "outputs": [
    {
     "data": {
      "text/plain": [
       "array([-4,  3])"
      ]
     },
     "execution_count": 12,
     "metadata": {},
     "output_type": "execute_result"
    }
   ],
   "source": [
    "def rot90(v:Vector) -> np.array:\n",
    "    v.reverse()\n",
    "    return np.array([v[0]*(-1),v[1]])\n",
    "\n",
    "rot90(v1)"
   ]
  },
  {
   "cell_type": "markdown",
   "id": "73975911",
   "metadata": {},
   "source": [
    "#### Given these 3 vectors"
   ]
  },
  {
   "cell_type": "code",
   "execution_count": 13,
   "id": "b4472312",
   "metadata": {},
   "outputs": [],
   "source": [
    "a = [3,2]\n",
    "b = [8,7]\n",
    "c = [1,5]"
   ]
  },
  {
   "cell_type": "markdown",
   "id": "c4a34318",
   "metadata": {},
   "source": [
    "#### v)  2 · a"
   ]
  },
  {
   "cell_type": "code",
   "execution_count": 14,
   "id": "d97d1f58",
   "metadata": {},
   "outputs": [
    {
     "data": {
      "text/plain": [
       "[6, 4]"
      ]
     },
     "execution_count": 14,
     "metadata": {},
     "output_type": "execute_result"
    }
   ],
   "source": [
    "def scal(c:float, v:Vector)->Vector:\n",
    "    return[c*vi for vi in v]\n",
    "\n",
    "scal(2, a)"
   ]
  },
  {
   "cell_type": "markdown",
   "id": "037c3536",
   "metadata": {},
   "source": [
    "#### w) a + b - c"
   ]
  },
  {
   "cell_type": "code",
   "execution_count": 16,
   "id": "180b4fbc",
   "metadata": {},
   "outputs": [
    {
     "data": {
      "text/plain": [
       "[10, 4]"
      ]
     },
     "execution_count": 16,
     "metadata": {},
     "output_type": "execute_result"
    }
   ],
   "source": [
    "def calvector(v1:Vector, v2:Vector, v3:Vector)-> Vector:\n",
    "    return([v1i+v2i-v3i for v1i,v2i,v3i in zip(v1,v2,v3)]) \n",
    "\n",
    "calvector(a, b, c)\n",
    "\n",
    "# 8+3-1 = 10, 7+2-5 = 4"
   ]
  },
  {
   "cell_type": "markdown",
   "id": "0f78ae3d",
   "metadata": {},
   "source": [
    "#### x) dot product of two vectors."
   ]
  },
  {
   "cell_type": "code",
   "execution_count": 24,
   "id": "b673c899",
   "metadata": {},
   "outputs": [
    {
     "data": {
      "text/plain": [
       "13"
      ]
     },
     "execution_count": 24,
     "metadata": {},
     "output_type": "execute_result"
    }
   ],
   "source": [
    "def dotP(v1:Vector, v2:Vector):\n",
    "    return(v1[0]*v2[0] + v1[1]*v2[1])\n",
    "\n",
    "dotP(a, a)"
   ]
  },
  {
   "cell_type": "markdown",
   "id": "4fc20bc1",
   "metadata": {},
   "source": [
    "#### y) Using numpy, find a · a. Compare with mag(a)*mag(a). What is the diference?"
   ]
  },
  {
   "cell_type": "code",
   "execution_count": 27,
   "id": "1b371081",
   "metadata": {},
   "outputs": [
    {
     "data": {
      "text/plain": [
       "13"
      ]
     },
     "execution_count": 27,
     "metadata": {},
     "output_type": "execute_result"
    }
   ],
   "source": [
    "np.dot(a, a)"
   ]
  },
  {
   "cell_type": "code",
   "execution_count": 23,
   "id": "890d8542",
   "metadata": {},
   "outputs": [
    {
     "data": {
      "text/plain": [
       "12.999999999999998"
      ]
     },
     "execution_count": 23,
     "metadata": {},
     "output_type": "execute_result"
    }
   ],
   "source": [
    "mag(a)*mag(a)"
   ]
  },
  {
   "cell_type": "markdown",
   "id": "4834dfd7",
   "metadata": {},
   "source": [
    "##### The difference is that when using the magnitudes we get a more specific result."
   ]
  },
  {
   "cell_type": "markdown",
   "id": "13e0bc12",
   "metadata": {},
   "source": [
    "#### z) Using numpy, find a · b."
   ]
  },
  {
   "cell_type": "code",
   "execution_count": 28,
   "id": "efae6b5c",
   "metadata": {},
   "outputs": [
    {
     "data": {
      "text/plain": [
       "38"
      ]
     },
     "execution_count": 28,
     "metadata": {},
     "output_type": "execute_result"
    }
   ],
   "source": [
    "np.dot(a, b)"
   ]
  },
  {
   "cell_type": "markdown",
   "id": "b768be71",
   "metadata": {},
   "source": [
    "#### æ) Using your rot90 function, find the dot product of a and its rotation. (That is, given a~r = rot90(a), find ~a · a~r)"
   ]
  },
  {
   "cell_type": "code",
   "execution_count": 29,
   "id": "c50b78db",
   "metadata": {},
   "outputs": [
    {
     "data": {
      "text/plain": [
       "5"
      ]
     },
     "execution_count": 29,
     "metadata": {},
     "output_type": "execute_result"
    }
   ],
   "source": [
    "a_r = rot90(a)\n",
    "np.dot(a_r, a)"
   ]
  }
 ],
 "metadata": {
  "kernelspec": {
   "display_name": "Python 3 (ipykernel)",
   "language": "python",
   "name": "python3"
  },
  "language_info": {
   "codemirror_mode": {
    "name": "ipython",
    "version": 3
   },
   "file_extension": ".py",
   "mimetype": "text/x-python",
   "name": "python",
   "nbconvert_exporter": "python",
   "pygments_lexer": "ipython3",
   "version": "3.9.7"
  }
 },
 "nbformat": 4,
 "nbformat_minor": 5
}

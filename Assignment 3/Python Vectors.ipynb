{
 "cells": [
  {
   "cell_type": "markdown",
   "id": "7ddaae23",
   "metadata": {},
   "source": [
    "## Pyhton"
   ]
  },
  {
   "cell_type": "code",
   "execution_count": 30,
   "id": "c3abf149",
   "metadata": {},
   "outputs": [],
   "source": [
    "import math\n",
    "import numpy as np\n",
    "\n",
    "from typing import List \n",
    "Vector = List[float]\n",
    "\n",
    "v = [3,4]"
   ]
  },
  {
   "cell_type": "markdown",
   "id": "ac76c278",
   "metadata": {},
   "source": [
    "#### s) Implement a function mag(vec) to return the magnitude of a 2-dimensional vector."
   ]
  },
  {
   "cell_type": "code",
   "execution_count": 31,
   "id": "5cf30695",
   "metadata": {},
   "outputs": [
    {
     "data": {
      "text/plain": [
       "5.0"
      ]
     },
     "execution_count": 31,
     "metadata": {},
     "output_type": "execute_result"
    }
   ],
   "source": [
    "def mag(v:Vector)-> float:\n",
    "    return math.sqrt(sum(v1i*v2i for v1i, v2i in zip(v, v)))\n",
    "\n",
    "mag(v)"
   ]
  },
  {
   "cell_type": "markdown",
   "id": "f480b8d3",
   "metadata": {},
   "source": [
    "#### t) Implement a unit(vec) function to return the unit vector of a2-dimensional vector (as a numpy array)."
   ]
  },
  {
   "cell_type": "code",
   "execution_count": 32,
   "id": "550cedd4",
   "metadata": {},
   "outputs": [
    {
     "data": {
      "text/plain": [
       "array([0.6, 0.8])"
      ]
     },
     "execution_count": 32,
     "metadata": {},
     "output_type": "execute_result"
    }
   ],
   "source": [
    "def unit(v:Vector)-> np.array:\n",
    "    return np.array([vi/mag(v) for vi in v])\n",
    "\n",
    "unit(v)"
   ]
  },
  {
   "cell_type": "markdown",
   "id": "076a4fc0",
   "metadata": {},
   "source": [
    "#### u) Implement rot90(vec). It must return a new numpy array, that is a 90 degree rotation of the vec input."
   ]
  },
  {
   "cell_type": "code",
   "execution_count": 33,
   "id": "d15eaa8d",
   "metadata": {},
   "outputs": [
    {
     "data": {
      "text/plain": [
       "array([-4,  3])"
      ]
     },
     "execution_count": 33,
     "metadata": {},
     "output_type": "execute_result"
    }
   ],
   "source": [
    "def rot90(v:Vector) -> np.array:\n",
    "    v.reverse()\n",
    "    return np.array([v[0]*(-1),v[1]])\n",
    "\n",
    "rot90(v)"
   ]
  },
  {
   "cell_type": "markdown",
   "id": "e2cfe07f",
   "metadata": {},
   "source": [
    "#### Given these 3 vectors"
   ]
  },
  {
   "cell_type": "code",
   "execution_count": 13,
   "id": "3affc789",
   "metadata": {},
   "outputs": [],
   "source": [
    "a = [3,2]\n",
    "b = [8,7]\n",
    "c = [1,5]"
   ]
  },
  {
   "cell_type": "markdown",
   "id": "08458430",
   "metadata": {},
   "source": [
    "#### v)  2 · a"
   ]
  },
  {
   "cell_type": "code",
   "execution_count": 14,
   "id": "050cd9d2",
   "metadata": {},
   "outputs": [
    {
     "data": {
      "text/plain": [
       "[6, 4]"
      ]
     },
     "execution_count": 14,
     "metadata": {},
     "output_type": "execute_result"
    }
   ],
   "source": [
    "def scal(c:float, v:Vector)->Vector:\n",
    "    return[c*vi for vi in v]\n",
    "\n",
    "scal(2, a)"
   ]
  },
  {
   "cell_type": "markdown",
   "id": "bf45453a",
   "metadata": {},
   "source": [
    "#### w) a + b - c"
   ]
  },
  {
   "cell_type": "code",
   "execution_count": 16,
   "id": "62743c5d",
   "metadata": {},
   "outputs": [
    {
     "data": {
      "text/plain": [
       "[10, 4]"
      ]
     },
     "execution_count": 16,
     "metadata": {},
     "output_type": "execute_result"
    }
   ],
   "source": [
    "def calvector(v1:Vector, v2:Vector, v3:Vector)-> Vector:\n",
    "    return([v1i+v2i-v3i for v1i,v2i,v3i in zip(v1,v2,v3)]) \n",
    "\n",
    "calvector(a, b, c)\n",
    "\n",
    "# 8+3-1 = 10, 7+2-5 = 4"
   ]
  },
  {
   "cell_type": "markdown",
   "id": "40cf6c6c",
   "metadata": {},
   "source": [
    "#### x) dot product of two vectors."
   ]
  },
  {
   "cell_type": "code",
   "execution_count": 24,
   "id": "b306a455",
   "metadata": {},
   "outputs": [
    {
     "data": {
      "text/plain": [
       "13"
      ]
     },
     "execution_count": 24,
     "metadata": {},
     "output_type": "execute_result"
    }
   ],
   "source": [
    "def dotP(v1:Vector, v2:Vector):\n",
    "    return(v1[0]*v2[0] + v1[1]*v2[1])\n",
    "\n",
    "dotP(a, a)"
   ]
  },
  {
   "cell_type": "markdown",
   "id": "a9cbc41d",
   "metadata": {},
   "source": [
    "#### y) Using numpy, find a · a. Compare with mag(a)*mag(a). What is the diference?"
   ]
  },
  {
   "cell_type": "code",
   "execution_count": 27,
   "id": "d961d55c",
   "metadata": {},
   "outputs": [
    {
     "data": {
      "text/plain": [
       "13"
      ]
     },
     "execution_count": 27,
     "metadata": {},
     "output_type": "execute_result"
    }
   ],
   "source": [
    "np.dot(a, a)"
   ]
  },
  {
   "cell_type": "code",
   "execution_count": 23,
   "id": "5547b4bf",
   "metadata": {},
   "outputs": [
    {
     "data": {
      "text/plain": [
       "12.999999999999998"
      ]
     },
     "execution_count": 23,
     "metadata": {},
     "output_type": "execute_result"
    }
   ],
   "source": [
    "mag(a)*mag(a)"
   ]
  },
  {
   "cell_type": "markdown",
   "id": "bdf82fe7",
   "metadata": {},
   "source": [
    "##### The difference is that when using the magnitudes we get a more specific result."
   ]
  },
  {
   "cell_type": "markdown",
   "id": "22dce30d",
   "metadata": {},
   "source": [
    "#### z) Using numpy, find a · b."
   ]
  },
  {
   "cell_type": "code",
   "execution_count": 28,
   "id": "79e48186",
   "metadata": {},
   "outputs": [
    {
     "data": {
      "text/plain": [
       "38"
      ]
     },
     "execution_count": 28,
     "metadata": {},
     "output_type": "execute_result"
    }
   ],
   "source": [
    "np.dot(a, b)"
   ]
  },
  {
   "cell_type": "markdown",
   "id": "dc8b7a5d",
   "metadata": {},
   "source": [
    "#### æ) Using your rot90 function, find the dot product of a and its rotation. (That is, given a~r = rot90(a), find ~a · a~r)"
   ]
  },
  {
   "cell_type": "code",
   "execution_count": 29,
   "id": "088da00c",
   "metadata": {},
   "outputs": [
    {
     "data": {
      "text/plain": [
       "5"
      ]
     },
     "execution_count": 29,
     "metadata": {},
     "output_type": "execute_result"
    }
   ],
   "source": [
    "a_r = rot90(a)\n",
    "np.dot(a_r, a)"
   ]
  }
 ],
 "metadata": {
  "kernelspec": {
   "display_name": "Python 3 (ipykernel)",
   "language": "python",
   "name": "python3"
  },
  "language_info": {
   "codemirror_mode": {
    "name": "ipython",
    "version": 3
   },
   "file_extension": ".py",
   "mimetype": "text/x-python",
   "name": "python",
   "nbconvert_exporter": "python",
   "pygments_lexer": "ipython3",
   "version": "3.9.7"
  }
 },
 "nbformat": 4,
 "nbformat_minor": 5
}

{
 "cells": [
  {
   "cell_type": "code",
   "execution_count": 1,
   "id": "05771db9",
   "metadata": {},
   "outputs": [],
   "source": [
    "import pandas as pd\n",
    "import numpy as np\n",
    "import matplotlib.pyplot as plt"
   ]
  },
  {
   "cell_type": "markdown",
   "id": "5bbe5aba",
   "metadata": {},
   "source": [
    "### THE FIRST 114 LINES OF DATA HAVE SOME FORMATTING ISSUES.  SHE DIDN’T USE MILITARY TIME (BUT THE OPEN HOURS ARE 10AM TO 8PM).  ALSO THERE IS SOME VARIATION ON THE DAY OF WEEK SPELLINGS"
   ]
  },
  {
   "cell_type": "code",
   "execution_count": null,
   "id": "7f7ed3e3",
   "metadata": {},
   "outputs": [],
   "source": [
    "url = './Haircut_Tip_amounts.xlsx'\n",
    "df = pd.read_excel(url)\n",
    "df.head()"
   ]
  },
  {
   "cell_type": "code",
   "execution_count": null,
   "id": "4478c09c",
   "metadata": {},
   "outputs": [],
   "source": [
    "df = df.drop(['Unnamed: 6'], axis=1)"
   ]
  },
  {
   "cell_type": "code",
   "execution_count": null,
   "id": "78ffadd0",
   "metadata": {},
   "outputs": [],
   "source": [
    "df = df.drop(['Unnamed: 7'], axis=1)"
   ]
  },
  {
   "cell_type": "code",
   "execution_count": null,
   "id": "93fa91e5",
   "metadata": {},
   "outputs": [],
   "source": [
    "df"
   ]
  },
  {
   "cell_type": "code",
   "execution_count": null,
   "id": "7e9c2c64",
   "metadata": {},
   "outputs": [],
   "source": [
    "df = df.iloc[116:,]"
   ]
  },
  {
   "cell_type": "code",
   "execution_count": null,
   "id": "fa913283",
   "metadata": {},
   "outputs": [],
   "source": [
    "df"
   ]
  },
  {
   "cell_type": "code",
   "execution_count": null,
   "id": "bc48f848",
   "metadata": {},
   "outputs": [],
   "source": [
    "df = df.drop(['Culture Codes'], axis=1)"
   ]
  },
  {
   "cell_type": "code",
   "execution_count": null,
   "id": "ae1a1cda",
   "metadata": {},
   "outputs": [],
   "source": [
    "df = df.drop(['Unnamed: 9'], axis=1)"
   ]
  },
  {
   "cell_type": "code",
   "execution_count": null,
   "id": "199576b4",
   "metadata": {},
   "outputs": [],
   "source": [
    "df"
   ]
  },
  {
   "cell_type": "code",
   "execution_count": null,
   "id": "4d3e5a6e",
   "metadata": {},
   "outputs": [],
   "source": [
    "df['Day'] = df['Day'].str.upper()"
   ]
  },
  {
   "cell_type": "code",
   "execution_count": null,
   "id": "e2a304af",
   "metadata": {},
   "outputs": [],
   "source": [
    "df"
   ]
  },
  {
   "cell_type": "code",
   "execution_count": null,
   "id": "db62336c",
   "metadata": {},
   "outputs": [],
   "source": [
    "df['Day'] = df['Day'].replace(['TUES'],'TUE')"
   ]
  },
  {
   "cell_type": "code",
   "execution_count": null,
   "id": "5a671a1f",
   "metadata": {},
   "outputs": [],
   "source": [
    "df"
   ]
  },
  {
   "cell_type": "code",
   "execution_count": null,
   "id": "aee80cd0",
   "metadata": {},
   "outputs": [],
   "source": [
    "df.dtypes"
   ]
  },
  {
   "cell_type": "markdown",
   "id": "b5597f58",
   "metadata": {},
   "source": [
    "##### Research question: Hvornår gives den bedste tip, hvad for en dag samt hvad tid på dagen? Er de gift eller ikke gift og hvad er gennemsnits tippen for et haircut? Hvilken kultur giver den bedste tip?\n",
    "Ud fra overstående analyse kan det konkluderes at den bedste tip gives TUE og i mellem klokken 16-18 hvor tippen er mellem 25-40kr, hvor den højste tip er giver klokken 16. Gift eller ikke gift der giver flest tips er NM og dem der giver gennemsnitligt mest i tips er NM med et gennemsnit på 7,02dk hvor M har et gennemsnit på 6,43kr Det kan også ses at det er Phillipino kulturen der giver mest i tip. Ydremere er det Amerika der giver flest tips."
   ]
  },
  {
   "cell_type": "code",
   "execution_count": null,
   "id": "12641f16",
   "metadata": {},
   "outputs": [],
   "source": [
    "df['Tip amount'] = df['Tip amount'].astype(int)"
   ]
  },
  {
   "cell_type": "code",
   "execution_count": null,
   "id": "93377a10",
   "metadata": {},
   "outputs": [],
   "source": [
    "df.dtypes"
   ]
  },
  {
   "cell_type": "code",
   "execution_count": null,
   "id": "9f730f1c",
   "metadata": {},
   "outputs": [],
   "source": [
    "df.groupby('Day').mean()"
   ]
  },
  {
   "cell_type": "code",
   "execution_count": null,
   "id": "9aa010f3",
   "metadata": {},
   "outputs": [],
   "source": [
    "dfTue = df.loc[df['Day'] == 'TUE']\n",
    "dfTue "
   ]
  },
  {
   "cell_type": "code",
   "execution_count": null,
   "id": "ccba3a7b",
   "metadata": {},
   "outputs": [],
   "source": [
    "dfTue.sort_values('Tip amount', ascending = False)"
   ]
  },
  {
   "cell_type": "code",
   "execution_count": null,
   "id": "92570fb2",
   "metadata": {},
   "outputs": [],
   "source": [
    "dfNM = df.loc[df['Married'] == 'NM']\n",
    "dfNM.count()"
   ]
  },
  {
   "cell_type": "code",
   "execution_count": null,
   "id": "7b7bc017",
   "metadata": {},
   "outputs": [],
   "source": [
    "dfM = df.loc[df['Married'] == 'M']\n",
    "dfM.count()"
   ]
  },
  {
   "cell_type": "code",
   "execution_count": null,
   "id": "73a0c469",
   "metadata": {},
   "outputs": [],
   "source": [
    "dfNM.groupby('Married').mean()"
   ]
  },
  {
   "cell_type": "code",
   "execution_count": null,
   "id": "7f059de5",
   "metadata": {},
   "outputs": [],
   "source": [
    "dfM.groupby('Married').mean()"
   ]
  },
  {
   "cell_type": "code",
   "execution_count": null,
   "id": "74ecc715",
   "metadata": {},
   "outputs": [],
   "source": [
    "dfNM"
   ]
  },
  {
   "cell_type": "code",
   "execution_count": null,
   "id": "ad9635f7",
   "metadata": {},
   "outputs": [],
   "source": [
    "dfM"
   ]
  },
  {
   "cell_type": "code",
   "execution_count": null,
   "id": "9467a743",
   "metadata": {},
   "outputs": [],
   "source": [
    "df['Married'].value_counts().plot(kind='bar')"
   ]
  },
  {
   "cell_type": "code",
   "execution_count": null,
   "id": "b29b1b5a",
   "metadata": {},
   "outputs": [],
   "source": [
    "tip = dfNM['Tip amount'].mean(), dfM['Tip amount'].mean()\n",
    "tip"
   ]
  },
  {
   "cell_type": "code",
   "execution_count": null,
   "id": "205dc31c",
   "metadata": {},
   "outputs": [],
   "source": [
    "status = ['Not married', 'Married']\n",
    "plt.bar(status, tip)\n",
    "plt.title('Tip amount for Not Married and Married')\n",
    "plt.xlabel('status')\n",
    "plt.ylabel('tip')\n",
    "plt.show()"
   ]
  },
  {
   "cell_type": "code",
   "execution_count": null,
   "id": "66a90568",
   "metadata": {
    "scrolled": false
   },
   "outputs": [],
   "source": [
    "df.sort_values('Culture')"
   ]
  },
  {
   "cell_type": "code",
   "execution_count": null,
   "id": "c559b0d3",
   "metadata": {},
   "outputs": [],
   "source": [
    "df.loc('Tip amount')"
   ]
  },
  {
   "cell_type": "code",
   "execution_count": null,
   "id": "83ce53ac",
   "metadata": {},
   "outputs": [],
   "source": [
    "dfCult = "
   ]
  },
  {
   "cell_type": "code",
   "execution_count": null,
   "id": "ad9bde86",
   "metadata": {},
   "outputs": [],
   "source": [
    "df.groupby('Culture').mean().plot(kind='bar')"
   ]
  },
  {
   "cell_type": "code",
   "execution_count": null,
   "id": "0aacfc55",
   "metadata": {},
   "outputs": [],
   "source": [
    "df['Culture'].value_counts().plot(kind='bar')"
   ]
  },
  {
   "cell_type": "code",
   "execution_count": null,
   "id": "7ffbe616",
   "metadata": {},
   "outputs": [],
   "source": []
  }
 ],
 "metadata": {
  "kernelspec": {
   "display_name": "Python 3 (ipykernel)",
   "language": "python",
   "name": "python3"
  },
  "language_info": {
   "codemirror_mode": {
    "name": "ipython",
    "version": 3
   },
   "file_extension": ".py",
   "mimetype": "text/x-python",
   "name": "python",
   "nbconvert_exporter": "python",
   "pygments_lexer": "ipython3",
   "version": "3.9.7"
  }
 },
 "nbformat": 4,
 "nbformat_minor": 5
}

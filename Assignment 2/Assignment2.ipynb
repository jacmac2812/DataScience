{
 "cells": [
  {
   "cell_type": "code",
   "execution_count": 1,
   "id": "7aabf71b",
   "metadata": {},
   "outputs": [],
   "source": [
    "import pandas as pd"
   ]
  },
  {
   "cell_type": "code",
   "execution_count": null,
   "id": "2036fac7",
   "metadata": {},
   "outputs": [],
   "source": [
    "url = '../Data/Vector_Race_results.xlsx'\n",
    "df = pd.read_excel(url)"
   ]
  },
  {
   "cell_type": "code",
   "execution_count": 4,
   "id": "4537bd67",
   "metadata": {},
   "outputs": [
    {
     "name": "stdout",
     "output_type": "stream",
     "text": [
      "    a  b   c   d\n",
      "0  10  6   7   8\n",
      "1   1  9  12  14\n",
      "2   5  8  10   6\n",
      "------------------\n",
      "[10  1  5]\n"
     ]
    }
   ],
   "source": [
    "df = pd.DataFrame([[10,6,7,8],\n",
    "                   [1,9,12,14],\n",
    "                   [5,8,10,6]],\n",
    "                  columns = ['a','b','c','d'])\n",
    "\n",
    "print(df)\n",
    "print(\"------------------\")\n",
    "for column in df:\n",
    "    if column == 'a':\n",
    "        print(df[column].values)\n",
    "        "
   ]
  },
  {
   "cell_type": "code",
   "execution_count": 6,
   "id": "dd17ea2a",
   "metadata": {},
   "outputs": [
    {
     "name": "stdout",
     "output_type": "stream",
     "text": [
      "[10  1  5]\n",
      "[6 9 8]\n",
      "[ 7 12 10]\n",
      "[ 8 14  6]\n"
     ]
    }
   ],
   "source": [
    "for (colname,colval) in df.iteritems():\n",
    "    print(colval.values)"
   ]
  },
  {
   "cell_type": "markdown",
   "id": "eeb554ee",
   "metadata": {},
   "source": [
    "Giver NM eller M flest tips?\n",
    "\n",
    "Sorter df efter NM og tæl antallet af rækker.\n",
    "Sorter df efter M og tæl antallet af rækker.\n",
    "Sammenlign de to evt. på et plot.\n",
    "\n",
    "Hvem giver gennemsnitligt højest tips?\n",
    "\n",
    "Tag gennemsnittet af af tips af det sorterede NM.\n",
    "Tag gennemsnittet af af tips af det sorterede M.\n",
    "Sammenlign de to gennemsnit evt. på et plot.\n"
   ]
  }
 ],
 "metadata": {
  "kernelspec": {
   "display_name": "Python 3 (ipykernel)",
   "language": "python",
   "name": "python3"
  },
  "language_info": {
   "codemirror_mode": {
    "name": "ipython",
    "version": 3
   },
   "file_extension": ".py",
   "mimetype": "text/x-python",
   "name": "python",
   "nbconvert_exporter": "python",
   "pygments_lexer": "ipython3",
   "version": "3.9.7"
  }
 },
 "nbformat": 4,
 "nbformat_minor": 5
}

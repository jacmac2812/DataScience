{
 "cells": [
  {
   "cell_type": "markdown",
   "id": "c5f93619",
   "metadata": {},
   "source": [
    "### 1. Work through the book – build your own K Means cluster function and carry out the modelling done in the book."
   ]
  },
  {
   "cell_type": "markdown",
   "id": "adb66710",
   "metadata": {},
   "source": [
    "### Scratch functions"
   ]
  },
  {
   "cell_type": "code",
   "execution_count": 1,
   "id": "45dcdf35",
   "metadata": {},
   "outputs": [],
   "source": [
    "from typing import List\n",
    "Vector = List[float]\n",
    "\n",
    "def scalar_multiply(c, v):\n",
    " \"\"\"c is a number, v is a vector\"\"\"\n",
    " return [c * v_i for v_i in v]\n",
    "def vector_mean(vectors):\n",
    " \"\"\"compute the vector whose ith element is the mean of the\n",
    " ith elements of the input vectors\"\"\"\n",
    " n = len(vectors)\n",
    " return scalar_multiply(1/n, vector_sum(vectors))\n",
    "def vector_subtract(v, w):\n",
    " \"\"\"subtracts corresponding elements\"\"\"\n",
    " return [v_i - w_i for v_i, w_i in zip(v, w)]\n",
    "\n",
    "def dot(v:Vector, w:Vector) -> float:\n",
    "    assert len(v) == len(w), \"Vectors must be same length\"\n",
    "    return sum(v_i * w_i for v_i, w_i in zip(v,w))\n",
    "\n",
    "def sum_of_squares(v:Vector) -> float:\n",
    "    return dot(v,v)\n",
    "\n",
    "def squared_distance(v, w):\n",
    " \"\"\"(v_1 - w_1)  2 + ... + (v_n - w_n)  2\"\"\"\n",
    " return sum_of_squares(vector_subtract(v, w))\n",
    "\n",
    "def vector_sum(vectors: List[Vector]) -> Vector:\n",
    "    assert vectors, \"no vectors provided!\"\n",
    "    \n",
    "    num_elements = len(vectors[0])\n",
    "    assert all(len(v) == num_elements for v in vectors), \"different sizes!\"\n",
    "    \n",
    "    return [sum(vector[i] for vector in vectors)\n",
    "           for i in range(num_elements)]"
   ]
  },
  {
   "cell_type": "markdown",
   "id": "ad3a79f3",
   "metadata": {},
   "source": [
    "#### The Model"
   ]
  },
  {
   "cell_type": "code",
   "execution_count": 2,
   "id": "4afdff62",
   "metadata": {},
   "outputs": [],
   "source": [
    "def num_differences(v1: Vector, v2: Vector) -> int:\n",
    "    assert len(v1) == len(v2)\n",
    "    return len([x1 for x1, x2 in zip(v1, v2) if x1 != x2])"
   ]
  },
  {
   "cell_type": "code",
   "execution_count": 3,
   "id": "f0182bee",
   "metadata": {},
   "outputs": [],
   "source": [
    "assert num_differences([1,2,3], [2,1,3]) == 2\n",
    "assert num_differences([1,2], [1,2]) == 0"
   ]
  },
  {
   "cell_type": "markdown",
   "id": "8d7e7e86",
   "metadata": {},
   "source": [
    "##### Means of Clusters"
   ]
  },
  {
   "cell_type": "code",
   "execution_count": 4,
   "id": "81c3c497",
   "metadata": {},
   "outputs": [],
   "source": [
    "def cluster_means(k: int, \n",
    "                 inputs: List[Vector],\n",
    "                 assignments: List[int]) -> List[Vector]:\n",
    "    clusters = [[] for i in range(k)]\n",
    "    for input, assignment in zip(inputs, assignments):\n",
    "        clusters[assignment].append(input)\n",
    "    return [vector_mean(cluster) if cluster else random.choice(inputs)\n",
    "           for cluster in clusters]"
   ]
  },
  {
   "cell_type": "code",
   "execution_count": 5,
   "id": "c33bb638",
   "metadata": {},
   "outputs": [],
   "source": [
    "import tqdm\n",
    "import random\n",
    "import itertools"
   ]
  },
  {
   "cell_type": "code",
   "execution_count": 6,
   "id": "8ad807d9",
   "metadata": {},
   "outputs": [],
   "source": [
    "class KMeans:\n",
    "    def __init__(self, k):\n",
    "        self.k = k # number of clusters\n",
    "        self.means = None # means of clusters\n",
    "        \n",
    "    def classify(self, input):\n",
    "        return min(range(self.k),\n",
    "        key=lambda i: squared_distance(input, self.means[i]))\n",
    "    \n",
    "    def train(self, inputs: List[Vector]) -> None:\n",
    "        assignments = [random.randrange(self.k) for _ in inputs]\n",
    "        \n",
    "        with tqdm.tqdm(itertools.count()) as t:\n",
    "            for _ in t:\n",
    "                self.means = cluster_means(self.k, inputs, assignments)\n",
    "                new_assignments = [self.classify(input) for input in inputs]\n",
    "                num_changed = num_differences(assignments, new_assignments)\n",
    "                if num_changed == 0:\n",
    "                    return\n",
    "                assignments = new_assignments\n",
    "                self.means = cluster_means(self.k, inputs, assignments)\n",
    "                t.set_description(f\"changed: {num_changed} / {len(inputs)}\")\n",
    "#     # choose k random points as the initial means\n",
    "#         self.means = random.sample(inputs, self.k)\n",
    "#         assignments = None\n",
    "#         while True:\n",
    "#         # Find new assignments\n",
    "#             new_assignments = map(self.classify, inputs)\n",
    "#             # If no assignments have changed, we're done.\n",
    "#             if assignments == new_assignments:\n",
    "#                 return\n",
    "#             # Otherwise keep the new assignments,\n",
    "#             assignments = new_assignments\n",
    "#             # And compute new means based on the new assignments\n",
    "#             for i in range(self.k):\n",
    "#             # find all the points assigned to cluster i\n",
    "#                 i_points = [p for p, a in zip(inputs, assignments) if a == i]\n",
    "#             # make sure i_points is not empty so don't divide by 0\n",
    "#             if i_points:\n",
    "#                 self.means[i] = vector_mean(i_points)"
   ]
  },
  {
   "cell_type": "markdown",
   "id": "eab74c61",
   "metadata": {},
   "source": [
    "#### Using the class"
   ]
  },
  {
   "cell_type": "code",
   "execution_count": 7,
   "id": "ec817e3f",
   "metadata": {},
   "outputs": [],
   "source": [
    "import random"
   ]
  },
  {
   "cell_type": "code",
   "execution_count": 8,
   "id": "7cd29763",
   "metadata": {},
   "outputs": [],
   "source": [
    "inputs = [[-14,-5],[13,13],[20,23],[-19,-11],[-9,-16],[21,27],[-49,15],[26,13],[-46,5],[-34,-1],[11,15],[-49,0],[-22,-16],[19,28],[-12,-8],[-13,-19],[-41,8],[-11,-6],[-25,-9],[-18,-3]]"
   ]
  },
  {
   "cell_type": "code",
   "execution_count": 9,
   "id": "99bb501d",
   "metadata": {},
   "outputs": [],
   "source": [
    "clusterer = KMeans(3)"
   ]
  },
  {
   "cell_type": "code",
   "execution_count": 10,
   "id": "d8ff4761",
   "metadata": {},
   "outputs": [
    {
     "name": "stderr",
     "output_type": "stream",
     "text": [
      "changed: 1 / 20: : 2it [00:00, 789.37it/s]\n"
     ]
    }
   ],
   "source": [
    "clusterer.train(inputs)"
   ]
  },
  {
   "cell_type": "code",
   "execution_count": 11,
   "id": "a664b819",
   "metadata": {},
   "outputs": [
    {
     "name": "stdout",
     "output_type": "stream",
     "text": [
      "[[-15.888888888888888, -10.333333333333332], [-43.800000000000004, 5.4], [18.333333333333332, 19.833333333333332]]\n"
     ]
    }
   ],
   "source": [
    "print(clusterer.means)"
   ]
  },
  {
   "cell_type": "code",
   "execution_count": 12,
   "id": "81ff66de",
   "metadata": {},
   "outputs": [],
   "source": [
    "means = sorted(clusterer.means)"
   ]
  },
  {
   "cell_type": "code",
   "execution_count": 13,
   "id": "02fb265e",
   "metadata": {},
   "outputs": [],
   "source": [
    "assert len(means) == 3"
   ]
  },
  {
   "cell_type": "code",
   "execution_count": 14,
   "id": "e6156c60",
   "metadata": {},
   "outputs": [],
   "source": [
    "assert squared_distance(means[0], [-44, 5]) < 1"
   ]
  },
  {
   "cell_type": "code",
   "execution_count": 15,
   "id": "2e23bf6c",
   "metadata": {},
   "outputs": [
    {
     "data": {
      "text/plain": [
       "<matplotlib.collections.PathCollection at 0x2348c6351f0>"
      ]
     },
     "execution_count": 15,
     "metadata": {},
     "output_type": "execute_result"
    },
    {
     "data": {
      "image/png": "[encoded data removed]",
      "text/plain": [
       "<Figure size 432x288 with 1 Axes>"
      ]
     },
     "metadata": {
      "needs_background": "light"
     },
     "output_type": "display_data"
    }
   ],
   "source": [
    "import numpy as np\n",
    "import matplotlib.pyplot as plt\n",
    "\n",
    "inputs_np = np.array(inputs)\n",
    "plt.scatter(inputs_np[:,0], inputs_np[:,1])"
   ]
  },
  {
   "cell_type": "markdown",
   "id": "42ca7263",
   "metadata": {},
   "source": [
    "#### Choosing k"
   ]
  },
  {
   "cell_type": "code",
   "execution_count": 16,
   "id": "dcd8dcab",
   "metadata": {},
   "outputs": [
    {
     "name": "stderr",
     "output_type": "stream",
     "text": [
      "0it [00:00, ?it/s]\n",
      "changed: 3 / 20: : 6it [00:00, 680.18it/s]\n",
      "changed: 1 / 20: : 2it [00:00, 707.48it/s]\n",
      "changed: 1 / 20: : 3it [00:00, 450.98it/s]\n",
      "changed: 1 / 20: : 3it [00:00, 641.82it/s]\n",
      "changed: 1 / 20: : 3it [00:00, 486.07it/s]\n",
      "changed: 1 / 20: : 3it [00:00, 475.37it/s]\n",
      "changed: 2 / 20: : 3it [00:00, 417.48it/s]\n",
      "changed: 2 / 20: : 2it [00:00, 343.44it/s]\n",
      "changed: 1 / 20: : 3it [00:00, 327.19it/s]\n",
      "changed: 1 / 20: : 3it [00:00, 401.28it/s]\n",
      "changed: 1 / 20: : 4it [00:00, 337.03it/s]\n",
      "changed: 1 / 20: : 4it [00:00, 393.71it/s]\n",
      "changed: 2 / 20: : 3it [00:00, 242.03it/s]\n",
      "changed: 4 / 20: : 2it [00:00, 260.41it/s]\n",
      "changed: 2 / 20: : 4it [00:00, 192.80it/s]\n",
      "changed: 1 / 20: : 4it [00:00, 214.38it/s]\n",
      "changed: 1 / 20: : 5it [00:00, 329.91it/s]\n",
      "changed: 1 / 20: : 5it [00:00, 289.07it/s]\n",
      "changed: 5 / 20: : 2it [00:00, 185.25it/s]\n"
     ]
    },
    {
     "data": {
      "image/png": "[encoded data removed]",
      "text/plain": [
       "<Figure size 432x288 with 1 Axes>"
      ]
     },
     "metadata": {
      "needs_background": "light"
     },
     "output_type": "display_data"
    }
   ],
   "source": [
    "def squared_clustering_errors(inputs, k):\n",
    "    \"\"\"finds the total squared error from k-means clustering the inputs\"\"\"\n",
    "    clusterer = KMeans(k)\n",
    "    clusterer.train(inputs)\n",
    "    means = clusterer.means\n",
    "    assignments = map(clusterer.classify, inputs)\n",
    "    return sum(squared_distance(input, means[cluster])\n",
    "               for input, cluster in zip(inputs, assignments))\n",
    "\n",
    "# now plot from 1 up to len(inputs) clusters\n",
    "ks = range(1, len(inputs) + 1)\n",
    "errors = [squared_clustering_errors(inputs, k) for k in ks]\n",
    "plt.plot(ks, errors)\n",
    "plt.xticks(ks)\n",
    "plt.xlabel(\"k\")\n",
    "plt.ylabel(\"total squared error\")\n",
    "plt.title(\"Total Error vs. # of Clusters\")\n",
    "plt.show()"
   ]
  },
  {
   "cell_type": "markdown",
   "id": "65459645",
   "metadata": {},
   "source": [
    "##### Den bedste k er 3"
   ]
  },
  {
   "cell_type": "markdown",
   "id": "12c5ded3",
   "metadata": {},
   "source": [
    "#### Image and colors"
   ]
  },
  {
   "cell_type": "code",
   "execution_count": 18,
   "id": "afd36759",
   "metadata": {},
   "outputs": [],
   "source": [
    "path_to_png_file = r\"cat.jpg\" # wherever your image is\n",
    "import matplotlib.image as mpimg\n",
    "img = mpimg.imread(path_to_png_file)"
   ]
  },
  {
   "cell_type": "code",
   "execution_count": 19,
   "id": "638507e3",
   "metadata": {},
   "outputs": [],
   "source": [
    "top_row = img[0]\n",
    "top_left_pixel = top_row[0]\n",
    "red, green, blue = top_left_pixel"
   ]
  },
  {
   "cell_type": "code",
   "execution_count": 20,
   "id": "570a3f30",
   "metadata": {},
   "outputs": [],
   "source": [
    "pixels = [pixel for row in img for pixel in row]"
   ]
  },
  {
   "cell_type": "code",
   "execution_count": null,
   "id": "c604b785",
   "metadata": {},
   "outputs": [
    {
     "name": "stderr",
     "output_type": "stream",
     "text": [
      "changed: 318 / 667000: : 23it [26:24, 69.46s/it]  "
     ]
    }
   ],
   "source": [
    "clusterer = KMeans(5)\n",
    "clusterer.train(pixels) # this might take a while"
   ]
  },
  {
   "cell_type": "code",
   "execution_count": null,
   "id": "d01abd6d",
   "metadata": {},
   "outputs": [],
   "source": [
    "def recolor(pixel):\n",
    "    cluster = clusterer.classify(pixel) # index of the closest cluster\n",
    "    return clusterer.means[cluster] # mean of the closest cluster\n",
    "\n",
    "new_img = [[recolor(pixel) for pixel in row] # recolor this row of pixels\n",
    "           for row in img]"
   ]
  },
  {
   "cell_type": "code",
   "execution_count": null,
   "id": "4a79ba99",
   "metadata": {},
   "outputs": [],
   "source": [
    "plt.imshow(new_img)\n",
    "plt.axis('off')\n",
    "plt.show()"
   ]
  },
  {
   "cell_type": "markdown",
   "id": "332be828",
   "metadata": {},
   "source": [
    "### 2. Write a brief description of the use cases for K Means and DBSCAN algorithms. Hints on good use cases are in the notes – do further research as needed (e.g on DBSCAN used in recommendation engines"
   ]
  },
  {
   "cell_type": "markdown",
   "id": "453fc927",
   "metadata": {},
   "source": [
    "### 3. Thinking about these two algorithms provide a formal definition of clustering"
   ]
  },
  {
   "cell_type": "markdown",
   "id": "c2a509fd",
   "metadata": {},
   "source": [
    "### 4. Describe with examples of plotting two ways of selecting the value of K for K-means clustering"
   ]
  },
  {
   "cell_type": "markdown",
   "id": "c6c10e92",
   "metadata": {},
   "source": [
    "### 5. Which algorithm is good for large datasets and which one is good for regions of high density"
   ]
  },
  {
   "cell_type": "markdown",
   "id": "6b568dc5",
   "metadata": {},
   "source": [
    "### 6. What does ‘high density mean’ in DBSCAN"
   ]
  },
  {
   "cell_type": "markdown",
   "id": "cfe3300c",
   "metadata": {},
   "source": [
    "### 7. Describe with an example how the initialisation of K Means can affect the inertia value and the quality of the model. "
   ]
  },
  {
   "cell_type": "markdown",
   "id": "d31319ff",
   "metadata": {},
   "source": [
    "### 8. Prepare a model using K Means for the Olivetti data set from scikit learn – this exercise comes from Gueron p275"
   ]
  }
 ],
 "metadata": {
  "kernelspec": {
   "display_name": "Python 3 (ipykernel)",
   "language": "python",
   "name": "python3"
  },
  "language_info": {
   "codemirror_mode": {
    "name": "ipython",
    "version": 3
   },
   "file_extension": ".py",
   "mimetype": "text/x-python",
   "name": "python",
   "nbconvert_exporter": "python",
   "pygments_lexer": "ipython3",
   "version": "3.9.7"
  }
 },
 "nbformat": 4,
 "nbformat_minor": 5
}

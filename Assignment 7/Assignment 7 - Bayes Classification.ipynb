{
 "cells": [
  {
   "cell_type": "markdown",
   "id": "09877635",
   "metadata": {},
   "source": [
    "# Assignment 7 - Bayes Classification"
   ]
  },
  {
   "cell_type": "code",
   "execution_count": 1,
   "id": "3a660ebe",
   "metadata": {},
   "outputs": [],
   "source": [
    "import pandas as pd\n",
    "import matplotlib.pyplot as plt\n",
    "from sklearn import model_selection\n",
    "from sklearn.naive_bayes import GaussianNB\n",
    "import numpy as np\n",
    "from sklearn import model_selection\n",
    "from sklearn.metrics import classification_report\n",
    "from sklearn.metrics import confusion_matrix\n",
    "from sklearn.metrics import accuracy_score\n",
    "import seaborn as sns\n",
    "from sklearn.neighbors import KNeighborsClassifier"
   ]
  },
  {
   "cell_type": "markdown",
   "id": "bc4b2616",
   "metadata": {},
   "source": [
    "### 1. Load and Clean Data"
   ]
  },
  {
   "cell_type": "code",
   "execution_count": 2,
   "id": "4a08c8f9",
   "metadata": {},
   "outputs": [],
   "source": [
    "df = pd.read_csv(\"divorce.csv\", delimiter=\";\")"
   ]
  },
  {
   "cell_type": "code",
   "execution_count": 3,
   "id": "d16f38e5",
   "metadata": {},
   "outputs": [
    {
     "data": {
      "text/html": [
       "<div>\n",
       "<style scoped>\n",
       "    .dataframe tbody tr th:only-of-type {\n",
       "        vertical-align: middle;\n",
       "    }\n",
       "\n",
       "    .dataframe tbody tr th {\n",
       "        vertical-align: top;\n",
       "    }\n",
       "\n",
       "    .dataframe thead th {\n",
       "        text-align: right;\n",
       "    }\n",
       "</style>\n",
       "<table border=\"1\" class=\"dataframe\">\n",
       "  <thead>\n",
       "    <tr style=\"text-align: right;\">\n",
       "      <th></th>\n",
       "      <th>Atr1</th>\n",
       "      <th>Atr2</th>\n",
       "      <th>Atr3</th>\n",
       "      <th>Atr4</th>\n",
       "      <th>Atr5</th>\n",
       "      <th>Atr6</th>\n",
       "      <th>Atr7</th>\n",
       "      <th>Atr8</th>\n",
       "      <th>Atr9</th>\n",
       "      <th>Atr10</th>\n",
       "      <th>...</th>\n",
       "      <th>Atr46</th>\n",
       "      <th>Atr47</th>\n",
       "      <th>Atr48</th>\n",
       "      <th>Atr49</th>\n",
       "      <th>Atr50</th>\n",
       "      <th>Atr51</th>\n",
       "      <th>Atr52</th>\n",
       "      <th>Atr53</th>\n",
       "      <th>Atr54</th>\n",
       "      <th>Class</th>\n",
       "    </tr>\n",
       "  </thead>\n",
       "  <tbody>\n",
       "    <tr>\n",
       "      <th>0</th>\n",
       "      <td>2</td>\n",
       "      <td>2</td>\n",
       "      <td>4</td>\n",
       "      <td>1</td>\n",
       "      <td>0</td>\n",
       "      <td>0</td>\n",
       "      <td>0</td>\n",
       "      <td>0</td>\n",
       "      <td>0</td>\n",
       "      <td>0</td>\n",
       "      <td>...</td>\n",
       "      <td>2</td>\n",
       "      <td>1</td>\n",
       "      <td>3</td>\n",
       "      <td>3</td>\n",
       "      <td>3</td>\n",
       "      <td>2</td>\n",
       "      <td>3</td>\n",
       "      <td>2</td>\n",
       "      <td>1</td>\n",
       "      <td>1</td>\n",
       "    </tr>\n",
       "    <tr>\n",
       "      <th>1</th>\n",
       "      <td>4</td>\n",
       "      <td>4</td>\n",
       "      <td>4</td>\n",
       "      <td>4</td>\n",
       "      <td>4</td>\n",
       "      <td>0</td>\n",
       "      <td>0</td>\n",
       "      <td>4</td>\n",
       "      <td>4</td>\n",
       "      <td>4</td>\n",
       "      <td>...</td>\n",
       "      <td>2</td>\n",
       "      <td>2</td>\n",
       "      <td>3</td>\n",
       "      <td>4</td>\n",
       "      <td>4</td>\n",
       "      <td>4</td>\n",
       "      <td>4</td>\n",
       "      <td>2</td>\n",
       "      <td>2</td>\n",
       "      <td>1</td>\n",
       "    </tr>\n",
       "    <tr>\n",
       "      <th>2</th>\n",
       "      <td>2</td>\n",
       "      <td>2</td>\n",
       "      <td>2</td>\n",
       "      <td>2</td>\n",
       "      <td>1</td>\n",
       "      <td>3</td>\n",
       "      <td>2</td>\n",
       "      <td>1</td>\n",
       "      <td>1</td>\n",
       "      <td>2</td>\n",
       "      <td>...</td>\n",
       "      <td>3</td>\n",
       "      <td>2</td>\n",
       "      <td>3</td>\n",
       "      <td>1</td>\n",
       "      <td>1</td>\n",
       "      <td>1</td>\n",
       "      <td>2</td>\n",
       "      <td>2</td>\n",
       "      <td>2</td>\n",
       "      <td>1</td>\n",
       "    </tr>\n",
       "    <tr>\n",
       "      <th>3</th>\n",
       "      <td>3</td>\n",
       "      <td>2</td>\n",
       "      <td>3</td>\n",
       "      <td>2</td>\n",
       "      <td>3</td>\n",
       "      <td>3</td>\n",
       "      <td>3</td>\n",
       "      <td>3</td>\n",
       "      <td>3</td>\n",
       "      <td>3</td>\n",
       "      <td>...</td>\n",
       "      <td>2</td>\n",
       "      <td>2</td>\n",
       "      <td>3</td>\n",
       "      <td>3</td>\n",
       "      <td>3</td>\n",
       "      <td>3</td>\n",
       "      <td>2</td>\n",
       "      <td>2</td>\n",
       "      <td>2</td>\n",
       "      <td>1</td>\n",
       "    </tr>\n",
       "    <tr>\n",
       "      <th>4</th>\n",
       "      <td>2</td>\n",
       "      <td>2</td>\n",
       "      <td>1</td>\n",
       "      <td>1</td>\n",
       "      <td>1</td>\n",
       "      <td>1</td>\n",
       "      <td>0</td>\n",
       "      <td>0</td>\n",
       "      <td>0</td>\n",
       "      <td>0</td>\n",
       "      <td>...</td>\n",
       "      <td>2</td>\n",
       "      <td>1</td>\n",
       "      <td>2</td>\n",
       "      <td>3</td>\n",
       "      <td>2</td>\n",
       "      <td>2</td>\n",
       "      <td>2</td>\n",
       "      <td>1</td>\n",
       "      <td>0</td>\n",
       "      <td>1</td>\n",
       "    </tr>\n",
       "  </tbody>\n",
       "</table>\n",
       "<p>5 rows × 55 columns</p>\n",
       "</div>"
      ],
      "text/plain": [
       "   Atr1  Atr2  Atr3  Atr4  Atr5  Atr6  Atr7  Atr8  Atr9  Atr10  ...  Atr46  \\\n",
       "0     2     2     4     1     0     0     0     0     0      0  ...      2   \n",
       "1     4     4     4     4     4     0     0     4     4      4  ...      2   \n",
       "2     2     2     2     2     1     3     2     1     1      2  ...      3   \n",
       "3     3     2     3     2     3     3     3     3     3      3  ...      2   \n",
       "4     2     2     1     1     1     1     0     0     0      0  ...      2   \n",
       "\n",
       "   Atr47  Atr48  Atr49  Atr50  Atr51  Atr52  Atr53  Atr54  Class  \n",
       "0      1      3      3      3      2      3      2      1      1  \n",
       "1      2      3      4      4      4      4      2      2      1  \n",
       "2      2      3      1      1      1      2      2      2      1  \n",
       "3      2      3      3      3      3      2      2      2      1  \n",
       "4      1      2      3      2      2      2      1      0      1  \n",
       "\n",
       "[5 rows x 55 columns]"
      ]
     },
     "execution_count": 3,
     "metadata": {},
     "output_type": "execute_result"
    }
   ],
   "source": [
    "df.head()"
   ]
  },
  {
   "cell_type": "code",
   "execution_count": 4,
   "id": "bb3c1b76",
   "metadata": {},
   "outputs": [
    {
     "data": {
      "text/html": [
       "<div>\n",
       "<style scoped>\n",
       "    .dataframe tbody tr th:only-of-type {\n",
       "        vertical-align: middle;\n",
       "    }\n",
       "\n",
       "    .dataframe tbody tr th {\n",
       "        vertical-align: top;\n",
       "    }\n",
       "\n",
       "    .dataframe thead th {\n",
       "        text-align: right;\n",
       "    }\n",
       "</style>\n",
       "<table border=\"1\" class=\"dataframe\">\n",
       "  <thead>\n",
       "    <tr style=\"text-align: right;\">\n",
       "      <th></th>\n",
       "      <th>Atr1</th>\n",
       "      <th>Atr2</th>\n",
       "      <th>Atr3</th>\n",
       "      <th>Atr4</th>\n",
       "      <th>Atr5</th>\n",
       "      <th>Atr6</th>\n",
       "      <th>Atr7</th>\n",
       "      <th>Atr8</th>\n",
       "      <th>Atr9</th>\n",
       "      <th>Atr10</th>\n",
       "      <th>...</th>\n",
       "      <th>Atr46</th>\n",
       "      <th>Atr47</th>\n",
       "      <th>Atr48</th>\n",
       "      <th>Atr49</th>\n",
       "      <th>Atr50</th>\n",
       "      <th>Atr51</th>\n",
       "      <th>Atr52</th>\n",
       "      <th>Atr53</th>\n",
       "      <th>Atr54</th>\n",
       "      <th>Class</th>\n",
       "    </tr>\n",
       "  </thead>\n",
       "  <tbody>\n",
       "    <tr>\n",
       "      <th>165</th>\n",
       "      <td>0</td>\n",
       "      <td>0</td>\n",
       "      <td>0</td>\n",
       "      <td>0</td>\n",
       "      <td>0</td>\n",
       "      <td>0</td>\n",
       "      <td>0</td>\n",
       "      <td>0</td>\n",
       "      <td>0</td>\n",
       "      <td>0</td>\n",
       "      <td>...</td>\n",
       "      <td>1</td>\n",
       "      <td>0</td>\n",
       "      <td>4</td>\n",
       "      <td>1</td>\n",
       "      <td>1</td>\n",
       "      <td>4</td>\n",
       "      <td>2</td>\n",
       "      <td>2</td>\n",
       "      <td>2</td>\n",
       "      <td>0</td>\n",
       "    </tr>\n",
       "    <tr>\n",
       "      <th>166</th>\n",
       "      <td>0</td>\n",
       "      <td>0</td>\n",
       "      <td>0</td>\n",
       "      <td>0</td>\n",
       "      <td>0</td>\n",
       "      <td>0</td>\n",
       "      <td>0</td>\n",
       "      <td>0</td>\n",
       "      <td>0</td>\n",
       "      <td>0</td>\n",
       "      <td>...</td>\n",
       "      <td>4</td>\n",
       "      <td>1</td>\n",
       "      <td>2</td>\n",
       "      <td>2</td>\n",
       "      <td>2</td>\n",
       "      <td>2</td>\n",
       "      <td>3</td>\n",
       "      <td>2</td>\n",
       "      <td>2</td>\n",
       "      <td>0</td>\n",
       "    </tr>\n",
       "    <tr>\n",
       "      <th>167</th>\n",
       "      <td>1</td>\n",
       "      <td>1</td>\n",
       "      <td>0</td>\n",
       "      <td>0</td>\n",
       "      <td>0</td>\n",
       "      <td>0</td>\n",
       "      <td>0</td>\n",
       "      <td>0</td>\n",
       "      <td>0</td>\n",
       "      <td>1</td>\n",
       "      <td>...</td>\n",
       "      <td>3</td>\n",
       "      <td>0</td>\n",
       "      <td>2</td>\n",
       "      <td>0</td>\n",
       "      <td>1</td>\n",
       "      <td>1</td>\n",
       "      <td>3</td>\n",
       "      <td>0</td>\n",
       "      <td>0</td>\n",
       "      <td>0</td>\n",
       "    </tr>\n",
       "    <tr>\n",
       "      <th>168</th>\n",
       "      <td>0</td>\n",
       "      <td>0</td>\n",
       "      <td>0</td>\n",
       "      <td>0</td>\n",
       "      <td>0</td>\n",
       "      <td>0</td>\n",
       "      <td>0</td>\n",
       "      <td>0</td>\n",
       "      <td>0</td>\n",
       "      <td>0</td>\n",
       "      <td>...</td>\n",
       "      <td>3</td>\n",
       "      <td>3</td>\n",
       "      <td>2</td>\n",
       "      <td>2</td>\n",
       "      <td>3</td>\n",
       "      <td>2</td>\n",
       "      <td>4</td>\n",
       "      <td>3</td>\n",
       "      <td>1</td>\n",
       "      <td>0</td>\n",
       "    </tr>\n",
       "    <tr>\n",
       "      <th>169</th>\n",
       "      <td>0</td>\n",
       "      <td>0</td>\n",
       "      <td>0</td>\n",
       "      <td>0</td>\n",
       "      <td>0</td>\n",
       "      <td>0</td>\n",
       "      <td>0</td>\n",
       "      <td>1</td>\n",
       "      <td>0</td>\n",
       "      <td>0</td>\n",
       "      <td>...</td>\n",
       "      <td>3</td>\n",
       "      <td>4</td>\n",
       "      <td>4</td>\n",
       "      <td>0</td>\n",
       "      <td>1</td>\n",
       "      <td>3</td>\n",
       "      <td>3</td>\n",
       "      <td>3</td>\n",
       "      <td>1</td>\n",
       "      <td>0</td>\n",
       "    </tr>\n",
       "  </tbody>\n",
       "</table>\n",
       "<p>5 rows × 55 columns</p>\n",
       "</div>"
      ],
      "text/plain": [
       "     Atr1  Atr2  Atr3  Atr4  Atr5  Atr6  Atr7  Atr8  Atr9  Atr10  ...  Atr46  \\\n",
       "165     0     0     0     0     0     0     0     0     0      0  ...      1   \n",
       "166     0     0     0     0     0     0     0     0     0      0  ...      4   \n",
       "167     1     1     0     0     0     0     0     0     0      1  ...      3   \n",
       "168     0     0     0     0     0     0     0     0     0      0  ...      3   \n",
       "169     0     0     0     0     0     0     0     1     0      0  ...      3   \n",
       "\n",
       "     Atr47  Atr48  Atr49  Atr50  Atr51  Atr52  Atr53  Atr54  Class  \n",
       "165      0      4      1      1      4      2      2      2      0  \n",
       "166      1      2      2      2      2      3      2      2      0  \n",
       "167      0      2      0      1      1      3      0      0      0  \n",
       "168      3      2      2      3      2      4      3      1      0  \n",
       "169      4      4      0      1      3      3      3      1      0  \n",
       "\n",
       "[5 rows x 55 columns]"
      ]
     },
     "execution_count": 4,
     "metadata": {},
     "output_type": "execute_result"
    }
   ],
   "source": [
    "df.tail()"
   ]
  },
  {
   "cell_type": "markdown",
   "id": "a3fa868b",
   "metadata": {},
   "source": [
    "### 2. Study Data"
   ]
  },
  {
   "cell_type": "code",
   "execution_count": 5,
   "id": "c4f65432",
   "metadata": {
    "scrolled": true
   },
   "outputs": [
    {
     "data": {
      "text/plain": [
       "(170, 55)"
      ]
     },
     "execution_count": 5,
     "metadata": {},
     "output_type": "execute_result"
    }
   ],
   "source": [
    "df.shape"
   ]
  },
  {
   "cell_type": "markdown",
   "id": "9cbae4ad",
   "metadata": {},
   "source": [
    "#### Checking if each column has the same number of data:"
   ]
  },
  {
   "cell_type": "code",
   "execution_count": 6,
   "id": "d0dea087",
   "metadata": {
    "scrolled": true
   },
   "outputs": [
    {
     "name": "stdout",
     "output_type": "stream",
     "text": [
      "<class 'pandas.core.frame.DataFrame'>\n",
      "RangeIndex: 170 entries, 0 to 169\n",
      "Data columns (total 55 columns):\n",
      " #   Column  Non-Null Count  Dtype\n",
      "---  ------  --------------  -----\n",
      " 0   Atr1    170 non-null    int64\n",
      " 1   Atr2    170 non-null    int64\n",
      " 2   Atr3    170 non-null    int64\n",
      " 3   Atr4    170 non-null    int64\n",
      " 4   Atr5    170 non-null    int64\n",
      " 5   Atr6    170 non-null    int64\n",
      " 6   Atr7    170 non-null    int64\n",
      " 7   Atr8    170 non-null    int64\n",
      " 8   Atr9    170 non-null    int64\n",
      " 9   Atr10   170 non-null    int64\n",
      " 10  Atr11   170 non-null    int64\n",
      " 11  Atr12   170 non-null    int64\n",
      " 12  Atr13   170 non-null    int64\n",
      " 13  Atr14   170 non-null    int64\n",
      " 14  Atr15   170 non-null    int64\n",
      " 15  Atr16   170 non-null    int64\n",
      " 16  Atr17   170 non-null    int64\n",
      " 17  Atr18   170 non-null    int64\n",
      " 18  Atr19   170 non-null    int64\n",
      " 19  Atr20   170 non-null    int64\n",
      " 20  Atr21   170 non-null    int64\n",
      " 21  Atr22   170 non-null    int64\n",
      " 22  Atr23   170 non-null    int64\n",
      " 23  Atr24   170 non-null    int64\n",
      " 24  Atr25   170 non-null    int64\n",
      " 25  Atr26   170 non-null    int64\n",
      " 26  Atr27   170 non-null    int64\n",
      " 27  Atr28   170 non-null    int64\n",
      " 28  Atr29   170 non-null    int64\n",
      " 29  Atr30   170 non-null    int64\n",
      " 30  Atr31   170 non-null    int64\n",
      " 31  Atr32   170 non-null    int64\n",
      " 32  Atr33   170 non-null    int64\n",
      " 33  Atr34   170 non-null    int64\n",
      " 34  Atr35   170 non-null    int64\n",
      " 35  Atr36   170 non-null    int64\n",
      " 36  Atr37   170 non-null    int64\n",
      " 37  Atr38   170 non-null    int64\n",
      " 38  Atr39   170 non-null    int64\n",
      " 39  Atr40   170 non-null    int64\n",
      " 40  Atr41   170 non-null    int64\n",
      " 41  Atr42   170 non-null    int64\n",
      " 42  Atr43   170 non-null    int64\n",
      " 43  Atr44   170 non-null    int64\n",
      " 44  Atr45   170 non-null    int64\n",
      " 45  Atr46   170 non-null    int64\n",
      " 46  Atr47   170 non-null    int64\n",
      " 47  Atr48   170 non-null    int64\n",
      " 48  Atr49   170 non-null    int64\n",
      " 49  Atr50   170 non-null    int64\n",
      " 50  Atr51   170 non-null    int64\n",
      " 51  Atr52   170 non-null    int64\n",
      " 52  Atr53   170 non-null    int64\n",
      " 53  Atr54   170 non-null    int64\n",
      " 54  Class   170 non-null    int64\n",
      "dtypes: int64(55)\n",
      "memory usage: 73.2 KB\n"
     ]
    }
   ],
   "source": [
    "df.info()"
   ]
  },
  {
   "cell_type": "markdown",
   "id": "698f1d90",
   "metadata": {},
   "source": [
    "#### The highest value is 4 and the lowest is 0:"
   ]
  },
  {
   "cell_type": "code",
   "execution_count": 7,
   "id": "a49c8e34",
   "metadata": {
    "scrolled": true
   },
   "outputs": [
    {
     "data": {
      "text/html": [
       "<div>\n",
       "<style scoped>\n",
       "    .dataframe tbody tr th:only-of-type {\n",
       "        vertical-align: middle;\n",
       "    }\n",
       "\n",
       "    .dataframe tbody tr th {\n",
       "        vertical-align: top;\n",
       "    }\n",
       "\n",
       "    .dataframe thead th {\n",
       "        text-align: right;\n",
       "    }\n",
       "</style>\n",
       "<table border=\"1\" class=\"dataframe\">\n",
       "  <thead>\n",
       "    <tr style=\"text-align: right;\">\n",
       "      <th></th>\n",
       "      <th>Atr1</th>\n",
       "      <th>Atr2</th>\n",
       "      <th>Atr3</th>\n",
       "      <th>Atr4</th>\n",
       "      <th>Atr5</th>\n",
       "      <th>Atr6</th>\n",
       "      <th>Atr7</th>\n",
       "      <th>Atr8</th>\n",
       "      <th>Atr9</th>\n",
       "      <th>Atr10</th>\n",
       "      <th>...</th>\n",
       "      <th>Atr46</th>\n",
       "      <th>Atr47</th>\n",
       "      <th>Atr48</th>\n",
       "      <th>Atr49</th>\n",
       "      <th>Atr50</th>\n",
       "      <th>Atr51</th>\n",
       "      <th>Atr52</th>\n",
       "      <th>Atr53</th>\n",
       "      <th>Atr54</th>\n",
       "      <th>Class</th>\n",
       "    </tr>\n",
       "  </thead>\n",
       "  <tbody>\n",
       "    <tr>\n",
       "      <th>count</th>\n",
       "      <td>170.000000</td>\n",
       "      <td>170.000000</td>\n",
       "      <td>170.000000</td>\n",
       "      <td>170.000000</td>\n",
       "      <td>170.000000</td>\n",
       "      <td>170.000000</td>\n",
       "      <td>170.000000</td>\n",
       "      <td>170.000000</td>\n",
       "      <td>170.000000</td>\n",
       "      <td>170.000000</td>\n",
       "      <td>...</td>\n",
       "      <td>170.000000</td>\n",
       "      <td>170.000000</td>\n",
       "      <td>170.000000</td>\n",
       "      <td>170.000000</td>\n",
       "      <td>170.000000</td>\n",
       "      <td>170.000000</td>\n",
       "      <td>170.000000</td>\n",
       "      <td>170.000000</td>\n",
       "      <td>170.000000</td>\n",
       "      <td>170.000000</td>\n",
       "    </tr>\n",
       "    <tr>\n",
       "      <th>mean</th>\n",
       "      <td>1.776471</td>\n",
       "      <td>1.652941</td>\n",
       "      <td>1.764706</td>\n",
       "      <td>1.482353</td>\n",
       "      <td>1.541176</td>\n",
       "      <td>0.747059</td>\n",
       "      <td>0.494118</td>\n",
       "      <td>1.452941</td>\n",
       "      <td>1.458824</td>\n",
       "      <td>1.576471</td>\n",
       "      <td>...</td>\n",
       "      <td>2.552941</td>\n",
       "      <td>2.270588</td>\n",
       "      <td>2.741176</td>\n",
       "      <td>2.382353</td>\n",
       "      <td>2.429412</td>\n",
       "      <td>2.476471</td>\n",
       "      <td>2.517647</td>\n",
       "      <td>2.241176</td>\n",
       "      <td>2.011765</td>\n",
       "      <td>0.494118</td>\n",
       "    </tr>\n",
       "    <tr>\n",
       "      <th>std</th>\n",
       "      <td>1.627257</td>\n",
       "      <td>1.468654</td>\n",
       "      <td>1.415444</td>\n",
       "      <td>1.504327</td>\n",
       "      <td>1.632169</td>\n",
       "      <td>0.904046</td>\n",
       "      <td>0.898698</td>\n",
       "      <td>1.546371</td>\n",
       "      <td>1.557976</td>\n",
       "      <td>1.421529</td>\n",
       "      <td>...</td>\n",
       "      <td>1.371786</td>\n",
       "      <td>1.586841</td>\n",
       "      <td>1.137348</td>\n",
       "      <td>1.511587</td>\n",
       "      <td>1.405090</td>\n",
       "      <td>1.260238</td>\n",
       "      <td>1.476537</td>\n",
       "      <td>1.505634</td>\n",
       "      <td>1.667611</td>\n",
       "      <td>0.501442</td>\n",
       "    </tr>\n",
       "    <tr>\n",
       "      <th>min</th>\n",
       "      <td>0.000000</td>\n",
       "      <td>0.000000</td>\n",
       "      <td>0.000000</td>\n",
       "      <td>0.000000</td>\n",
       "      <td>0.000000</td>\n",
       "      <td>0.000000</td>\n",
       "      <td>0.000000</td>\n",
       "      <td>0.000000</td>\n",
       "      <td>0.000000</td>\n",
       "      <td>0.000000</td>\n",
       "      <td>...</td>\n",
       "      <td>0.000000</td>\n",
       "      <td>0.000000</td>\n",
       "      <td>0.000000</td>\n",
       "      <td>0.000000</td>\n",
       "      <td>0.000000</td>\n",
       "      <td>0.000000</td>\n",
       "      <td>0.000000</td>\n",
       "      <td>0.000000</td>\n",
       "      <td>0.000000</td>\n",
       "      <td>0.000000</td>\n",
       "    </tr>\n",
       "    <tr>\n",
       "      <th>25%</th>\n",
       "      <td>0.000000</td>\n",
       "      <td>0.000000</td>\n",
       "      <td>0.000000</td>\n",
       "      <td>0.000000</td>\n",
       "      <td>0.000000</td>\n",
       "      <td>0.000000</td>\n",
       "      <td>0.000000</td>\n",
       "      <td>0.000000</td>\n",
       "      <td>0.000000</td>\n",
       "      <td>0.000000</td>\n",
       "      <td>...</td>\n",
       "      <td>2.000000</td>\n",
       "      <td>1.000000</td>\n",
       "      <td>2.000000</td>\n",
       "      <td>1.000000</td>\n",
       "      <td>1.000000</td>\n",
       "      <td>2.000000</td>\n",
       "      <td>1.000000</td>\n",
       "      <td>1.000000</td>\n",
       "      <td>0.000000</td>\n",
       "      <td>0.000000</td>\n",
       "    </tr>\n",
       "    <tr>\n",
       "      <th>50%</th>\n",
       "      <td>2.000000</td>\n",
       "      <td>2.000000</td>\n",
       "      <td>2.000000</td>\n",
       "      <td>1.000000</td>\n",
       "      <td>1.000000</td>\n",
       "      <td>0.000000</td>\n",
       "      <td>0.000000</td>\n",
       "      <td>1.000000</td>\n",
       "      <td>1.000000</td>\n",
       "      <td>2.000000</td>\n",
       "      <td>...</td>\n",
       "      <td>3.000000</td>\n",
       "      <td>2.000000</td>\n",
       "      <td>3.000000</td>\n",
       "      <td>3.000000</td>\n",
       "      <td>2.000000</td>\n",
       "      <td>3.000000</td>\n",
       "      <td>3.000000</td>\n",
       "      <td>2.000000</td>\n",
       "      <td>2.000000</td>\n",
       "      <td>0.000000</td>\n",
       "    </tr>\n",
       "    <tr>\n",
       "      <th>75%</th>\n",
       "      <td>3.000000</td>\n",
       "      <td>3.000000</td>\n",
       "      <td>3.000000</td>\n",
       "      <td>3.000000</td>\n",
       "      <td>3.000000</td>\n",
       "      <td>1.000000</td>\n",
       "      <td>1.000000</td>\n",
       "      <td>3.000000</td>\n",
       "      <td>3.000000</td>\n",
       "      <td>3.000000</td>\n",
       "      <td>...</td>\n",
       "      <td>4.000000</td>\n",
       "      <td>4.000000</td>\n",
       "      <td>4.000000</td>\n",
       "      <td>4.000000</td>\n",
       "      <td>4.000000</td>\n",
       "      <td>4.000000</td>\n",
       "      <td>4.000000</td>\n",
       "      <td>4.000000</td>\n",
       "      <td>4.000000</td>\n",
       "      <td>1.000000</td>\n",
       "    </tr>\n",
       "    <tr>\n",
       "      <th>max</th>\n",
       "      <td>4.000000</td>\n",
       "      <td>4.000000</td>\n",
       "      <td>4.000000</td>\n",
       "      <td>4.000000</td>\n",
       "      <td>4.000000</td>\n",
       "      <td>4.000000</td>\n",
       "      <td>4.000000</td>\n",
       "      <td>4.000000</td>\n",
       "      <td>4.000000</td>\n",
       "      <td>4.000000</td>\n",
       "      <td>...</td>\n",
       "      <td>4.000000</td>\n",
       "      <td>4.000000</td>\n",
       "      <td>4.000000</td>\n",
       "      <td>4.000000</td>\n",
       "      <td>4.000000</td>\n",
       "      <td>4.000000</td>\n",
       "      <td>4.000000</td>\n",
       "      <td>4.000000</td>\n",
       "      <td>4.000000</td>\n",
       "      <td>1.000000</td>\n",
       "    </tr>\n",
       "  </tbody>\n",
       "</table>\n",
       "<p>8 rows × 55 columns</p>\n",
       "</div>"
      ],
      "text/plain": [
       "             Atr1        Atr2        Atr3        Atr4        Atr5        Atr6  \\\n",
       "count  170.000000  170.000000  170.000000  170.000000  170.000000  170.000000   \n",
       "mean     1.776471    1.652941    1.764706    1.482353    1.541176    0.747059   \n",
       "std      1.627257    1.468654    1.415444    1.504327    1.632169    0.904046   \n",
       "min      0.000000    0.000000    0.000000    0.000000    0.000000    0.000000   \n",
       "25%      0.000000    0.000000    0.000000    0.000000    0.000000    0.000000   \n",
       "50%      2.000000    2.000000    2.000000    1.000000    1.000000    0.000000   \n",
       "75%      3.000000    3.000000    3.000000    3.000000    3.000000    1.000000   \n",
       "max      4.000000    4.000000    4.000000    4.000000    4.000000    4.000000   \n",
       "\n",
       "             Atr7        Atr8        Atr9       Atr10  ...       Atr46  \\\n",
       "count  170.000000  170.000000  170.000000  170.000000  ...  170.000000   \n",
       "mean     0.494118    1.452941    1.458824    1.576471  ...    2.552941   \n",
       "std      0.898698    1.546371    1.557976    1.421529  ...    1.371786   \n",
       "min      0.000000    0.000000    0.000000    0.000000  ...    0.000000   \n",
       "25%      0.000000    0.000000    0.000000    0.000000  ...    2.000000   \n",
       "50%      0.000000    1.000000    1.000000    2.000000  ...    3.000000   \n",
       "75%      1.000000    3.000000    3.000000    3.000000  ...    4.000000   \n",
       "max      4.000000    4.000000    4.000000    4.000000  ...    4.000000   \n",
       "\n",
       "            Atr47       Atr48       Atr49       Atr50       Atr51       Atr52  \\\n",
       "count  170.000000  170.000000  170.000000  170.000000  170.000000  170.000000   \n",
       "mean     2.270588    2.741176    2.382353    2.429412    2.476471    2.517647   \n",
       "std      1.586841    1.137348    1.511587    1.405090    1.260238    1.476537   \n",
       "min      0.000000    0.000000    0.000000    0.000000    0.000000    0.000000   \n",
       "25%      1.000000    2.000000    1.000000    1.000000    2.000000    1.000000   \n",
       "50%      2.000000    3.000000    3.000000    2.000000    3.000000    3.000000   \n",
       "75%      4.000000    4.000000    4.000000    4.000000    4.000000    4.000000   \n",
       "max      4.000000    4.000000    4.000000    4.000000    4.000000    4.000000   \n",
       "\n",
       "            Atr53       Atr54       Class  \n",
       "count  170.000000  170.000000  170.000000  \n",
       "mean     2.241176    2.011765    0.494118  \n",
       "std      1.505634    1.667611    0.501442  \n",
       "min      0.000000    0.000000    0.000000  \n",
       "25%      1.000000    0.000000    0.000000  \n",
       "50%      2.000000    2.000000    0.000000  \n",
       "75%      4.000000    4.000000    1.000000  \n",
       "max      4.000000    4.000000    1.000000  \n",
       "\n",
       "[8 rows x 55 columns]"
      ]
     },
     "execution_count": 7,
     "metadata": {},
     "output_type": "execute_result"
    }
   ],
   "source": [
    "df.describe()"
   ]
  },
  {
   "cell_type": "markdown",
   "id": "41a0609a",
   "metadata": {},
   "source": [
    "#### We are checking that there are not any null values:"
   ]
  },
  {
   "cell_type": "code",
   "execution_count": 8,
   "id": "39a0baf6",
   "metadata": {
    "scrolled": true
   },
   "outputs": [
    {
     "data": {
      "text/html": [
       "<div>\n",
       "<style scoped>\n",
       "    .dataframe tbody tr th:only-of-type {\n",
       "        vertical-align: middle;\n",
       "    }\n",
       "\n",
       "    .dataframe tbody tr th {\n",
       "        vertical-align: top;\n",
       "    }\n",
       "\n",
       "    .dataframe thead th {\n",
       "        text-align: right;\n",
       "    }\n",
       "</style>\n",
       "<table border=\"1\" class=\"dataframe\">\n",
       "  <thead>\n",
       "    <tr style=\"text-align: right;\">\n",
       "      <th></th>\n",
       "      <th># NULL values</th>\n",
       "    </tr>\n",
       "  </thead>\n",
       "  <tbody>\n",
       "    <tr>\n",
       "      <th>Atr1</th>\n",
       "      <td>0</td>\n",
       "    </tr>\n",
       "    <tr>\n",
       "      <th>Atr42</th>\n",
       "      <td>0</td>\n",
       "    </tr>\n",
       "    <tr>\n",
       "      <th>Atr31</th>\n",
       "      <td>0</td>\n",
       "    </tr>\n",
       "    <tr>\n",
       "      <th>Atr32</th>\n",
       "      <td>0</td>\n",
       "    </tr>\n",
       "    <tr>\n",
       "      <th>Atr33</th>\n",
       "      <td>0</td>\n",
       "    </tr>\n",
       "    <tr>\n",
       "      <th>Atr34</th>\n",
       "      <td>0</td>\n",
       "    </tr>\n",
       "    <tr>\n",
       "      <th>Atr35</th>\n",
       "      <td>0</td>\n",
       "    </tr>\n",
       "    <tr>\n",
       "      <th>Atr36</th>\n",
       "      <td>0</td>\n",
       "    </tr>\n",
       "    <tr>\n",
       "      <th>Atr37</th>\n",
       "      <td>0</td>\n",
       "    </tr>\n",
       "    <tr>\n",
       "      <th>Atr38</th>\n",
       "      <td>0</td>\n",
       "    </tr>\n",
       "    <tr>\n",
       "      <th>Atr39</th>\n",
       "      <td>0</td>\n",
       "    </tr>\n",
       "    <tr>\n",
       "      <th>Atr40</th>\n",
       "      <td>0</td>\n",
       "    </tr>\n",
       "    <tr>\n",
       "      <th>Atr41</th>\n",
       "      <td>0</td>\n",
       "    </tr>\n",
       "    <tr>\n",
       "      <th>Atr43</th>\n",
       "      <td>0</td>\n",
       "    </tr>\n",
       "    <tr>\n",
       "      <th>Atr29</th>\n",
       "      <td>0</td>\n",
       "    </tr>\n",
       "    <tr>\n",
       "      <th>Atr44</th>\n",
       "      <td>0</td>\n",
       "    </tr>\n",
       "    <tr>\n",
       "      <th>Atr45</th>\n",
       "      <td>0</td>\n",
       "    </tr>\n",
       "    <tr>\n",
       "      <th>Atr46</th>\n",
       "      <td>0</td>\n",
       "    </tr>\n",
       "    <tr>\n",
       "      <th>Atr47</th>\n",
       "      <td>0</td>\n",
       "    </tr>\n",
       "    <tr>\n",
       "      <th>Atr48</th>\n",
       "      <td>0</td>\n",
       "    </tr>\n",
       "    <tr>\n",
       "      <th>Atr49</th>\n",
       "      <td>0</td>\n",
       "    </tr>\n",
       "    <tr>\n",
       "      <th>Atr50</th>\n",
       "      <td>0</td>\n",
       "    </tr>\n",
       "    <tr>\n",
       "      <th>Atr51</th>\n",
       "      <td>0</td>\n",
       "    </tr>\n",
       "    <tr>\n",
       "      <th>Atr52</th>\n",
       "      <td>0</td>\n",
       "    </tr>\n",
       "    <tr>\n",
       "      <th>Atr53</th>\n",
       "      <td>0</td>\n",
       "    </tr>\n",
       "    <tr>\n",
       "      <th>Atr54</th>\n",
       "      <td>0</td>\n",
       "    </tr>\n",
       "    <tr>\n",
       "      <th>Atr30</th>\n",
       "      <td>0</td>\n",
       "    </tr>\n",
       "    <tr>\n",
       "      <th>Atr28</th>\n",
       "      <td>0</td>\n",
       "    </tr>\n",
       "    <tr>\n",
       "      <th>Atr2</th>\n",
       "      <td>0</td>\n",
       "    </tr>\n",
       "    <tr>\n",
       "      <th>Atr14</th>\n",
       "      <td>0</td>\n",
       "    </tr>\n",
       "    <tr>\n",
       "      <th>Atr3</th>\n",
       "      <td>0</td>\n",
       "    </tr>\n",
       "    <tr>\n",
       "      <th>Atr4</th>\n",
       "      <td>0</td>\n",
       "    </tr>\n",
       "    <tr>\n",
       "      <th>Atr5</th>\n",
       "      <td>0</td>\n",
       "    </tr>\n",
       "    <tr>\n",
       "      <th>Atr6</th>\n",
       "      <td>0</td>\n",
       "    </tr>\n",
       "    <tr>\n",
       "      <th>Atr7</th>\n",
       "      <td>0</td>\n",
       "    </tr>\n",
       "    <tr>\n",
       "      <th>Atr8</th>\n",
       "      <td>0</td>\n",
       "    </tr>\n",
       "    <tr>\n",
       "      <th>Atr9</th>\n",
       "      <td>0</td>\n",
       "    </tr>\n",
       "    <tr>\n",
       "      <th>Atr10</th>\n",
       "      <td>0</td>\n",
       "    </tr>\n",
       "    <tr>\n",
       "      <th>Atr11</th>\n",
       "      <td>0</td>\n",
       "    </tr>\n",
       "    <tr>\n",
       "      <th>Atr12</th>\n",
       "      <td>0</td>\n",
       "    </tr>\n",
       "    <tr>\n",
       "      <th>Atr13</th>\n",
       "      <td>0</td>\n",
       "    </tr>\n",
       "    <tr>\n",
       "      <th>Atr15</th>\n",
       "      <td>0</td>\n",
       "    </tr>\n",
       "    <tr>\n",
       "      <th>Atr27</th>\n",
       "      <td>0</td>\n",
       "    </tr>\n",
       "    <tr>\n",
       "      <th>Atr16</th>\n",
       "      <td>0</td>\n",
       "    </tr>\n",
       "    <tr>\n",
       "      <th>Atr17</th>\n",
       "      <td>0</td>\n",
       "    </tr>\n",
       "    <tr>\n",
       "      <th>Atr18</th>\n",
       "      <td>0</td>\n",
       "    </tr>\n",
       "    <tr>\n",
       "      <th>Atr19</th>\n",
       "      <td>0</td>\n",
       "    </tr>\n",
       "    <tr>\n",
       "      <th>Atr20</th>\n",
       "      <td>0</td>\n",
       "    </tr>\n",
       "    <tr>\n",
       "      <th>Atr21</th>\n",
       "      <td>0</td>\n",
       "    </tr>\n",
       "    <tr>\n",
       "      <th>Atr22</th>\n",
       "      <td>0</td>\n",
       "    </tr>\n",
       "    <tr>\n",
       "      <th>Atr23</th>\n",
       "      <td>0</td>\n",
       "    </tr>\n",
       "    <tr>\n",
       "      <th>Atr24</th>\n",
       "      <td>0</td>\n",
       "    </tr>\n",
       "    <tr>\n",
       "      <th>Atr25</th>\n",
       "      <td>0</td>\n",
       "    </tr>\n",
       "    <tr>\n",
       "      <th>Atr26</th>\n",
       "      <td>0</td>\n",
       "    </tr>\n",
       "    <tr>\n",
       "      <th>Class</th>\n",
       "      <td>0</td>\n",
       "    </tr>\n",
       "  </tbody>\n",
       "</table>\n",
       "</div>"
      ],
      "text/plain": [
       "       # NULL values\n",
       "Atr1               0\n",
       "Atr42              0\n",
       "Atr31              0\n",
       "Atr32              0\n",
       "Atr33              0\n",
       "Atr34              0\n",
       "Atr35              0\n",
       "Atr36              0\n",
       "Atr37              0\n",
       "Atr38              0\n",
       "Atr39              0\n",
       "Atr40              0\n",
       "Atr41              0\n",
       "Atr43              0\n",
       "Atr29              0\n",
       "Atr44              0\n",
       "Atr45              0\n",
       "Atr46              0\n",
       "Atr47              0\n",
       "Atr48              0\n",
       "Atr49              0\n",
       "Atr50              0\n",
       "Atr51              0\n",
       "Atr52              0\n",
       "Atr53              0\n",
       "Atr54              0\n",
       "Atr30              0\n",
       "Atr28              0\n",
       "Atr2               0\n",
       "Atr14              0\n",
       "Atr3               0\n",
       "Atr4               0\n",
       "Atr5               0\n",
       "Atr6               0\n",
       "Atr7               0\n",
       "Atr8               0\n",
       "Atr9               0\n",
       "Atr10              0\n",
       "Atr11              0\n",
       "Atr12              0\n",
       "Atr13              0\n",
       "Atr15              0\n",
       "Atr27              0\n",
       "Atr16              0\n",
       "Atr17              0\n",
       "Atr18              0\n",
       "Atr19              0\n",
       "Atr20              0\n",
       "Atr21              0\n",
       "Atr22              0\n",
       "Atr23              0\n",
       "Atr24              0\n",
       "Atr25              0\n",
       "Atr26              0\n",
       "Class              0"
      ]
     },
     "execution_count": 8,
     "metadata": {},
     "output_type": "execute_result"
    }
   ],
   "source": [
    "total = df.isnull().sum().sort_values(ascending=False)\n",
    "missing_data = pd.concat([total], axis=1, keys=['# NULL values'])\n",
    "missing_data"
   ]
  },
  {
   "cell_type": "markdown",
   "id": "277cea07",
   "metadata": {},
   "source": [
    "### 3. Visualize Data"
   ]
  },
  {
   "cell_type": "markdown",
   "id": "c97baa41",
   "metadata": {},
   "source": [
    "#### Histograms:\n",
    "###### We are asuming that Class value 1 is Married and 0 is Divorced, because of the deffinition on the Atr1 and Atr54 columns:\n",
    "<b>Atr1:</b> If one of us apologizes when our discussion deteriorates, the discussion ends.\n",
    "<br>\n",
    "<b>Atr54:</b> I'm not afraid to tell my spouse about her/his incompetence."
   ]
  },
  {
   "cell_type": "code",
   "execution_count": 9,
   "id": "294ae9ad",
   "metadata": {},
   "outputs": [
    {
     "data": {
      "image/png": "[encoded data removed]",
      "text/plain": [
       "<Figure size 432x288 with 1 Axes>"
      ]
     },
     "metadata": {
      "needs_background": "light"
     },
     "output_type": "display_data"
    }
   ],
   "source": [
    "df['Atr1'].hist()\n",
    "plt.show()"
   ]
  },
  {
   "cell_type": "code",
   "execution_count": 10,
   "id": "83973a3e",
   "metadata": {
    "scrolled": true
   },
   "outputs": [
    {
     "data": {
      "image/png": "[encoded data removed]",
      "text/plain": [
       "<Figure size 432x288 with 1 Axes>"
      ]
     },
     "metadata": {
      "needs_background": "light"
     },
     "output_type": "display_data"
    }
   ],
   "source": [
    "df['Atr54'].hist()\n",
    "plt.show()"
   ]
  },
  {
   "cell_type": "markdown",
   "id": "991d964c",
   "metadata": {},
   "source": [
    "#### The two histograms above shows that if you are married (Class = 1) you have higher amounts of 0 and 3 and lower 4, than if you are divorced (Class = 0)"
   ]
  },
  {
   "cell_type": "markdown",
   "id": "02a3c135",
   "metadata": {},
   "source": [
    "#### The histogram below shows us that there are more divorced people in our dataset, than married. "
   ]
  },
  {
   "cell_type": "code",
   "execution_count": 11,
   "id": "94aa87d7",
   "metadata": {
    "scrolled": false
   },
   "outputs": [
    {
     "data": {
      "image/png": "[encoded data removed]",
      "text/plain": [
       "<Figure size 432x288 with 1 Axes>"
      ]
     },
     "metadata": {
      "needs_background": "light"
     },
     "output_type": "display_data"
    }
   ],
   "source": [
    "df['Class'].hist()\n",
    "plt.show()"
   ]
  },
  {
   "cell_type": "markdown",
   "id": "1309d6c2",
   "metadata": {},
   "source": [
    "### 4. Split Dataset"
   ]
  },
  {
   "cell_type": "markdown",
   "id": "0c78b1bb",
   "metadata": {},
   "source": [
    "#### We are splitting the dataset into X and y arrays, where y is the Class values."
   ]
  },
  {
   "cell_type": "code",
   "execution_count": 12,
   "id": "18cfa50d",
   "metadata": {
    "scrolled": true
   },
   "outputs": [
    {
     "name": "stdout",
     "output_type": "stream",
     "text": [
      "[[2 2 4 ... 3 2 1]\n",
      " [4 4 4 ... 4 2 2]\n",
      " [2 2 2 ... 2 2 2]\n",
      " ...\n",
      " [1 1 0 ... 3 0 0]\n",
      " [0 0 0 ... 4 3 1]\n",
      " [0 0 0 ... 3 3 1]]\n",
      "[1 1 1 1 1 1 1 1 1 1 1 1 1 1 1 1 1 1 1 1 1 1 1 1 1 1 1 1 1 1 1 1 1 1 1 1 1\n",
      " 1 1 1 1 1 1 1 1 1 1 1 1 1 1 1 1 1 1 1 1 1 1 1 1 1 1 1 1 1 1 1 1 1 1 1 1 1\n",
      " 1 1 1 1 1 1 1 1 1 1 0 0 0 0 0 0 0 0 0 0 0 0 0 0 0 0 0 0 0 0 0 0 0 0 0 0 0\n",
      " 0 0 0 0 0 0 0 0 0 0 0 0 0 0 0 0 0 0 0 0 0 0 0 0 0 0 0 0 0 0 0 0 0 0 0 0 0\n",
      " 0 0 0 0 0 0 0 0 0 0 0 0 0 0 0 0 0 0 0 0 0 0]\n"
     ]
    }
   ],
   "source": [
    "X = df.iloc[:,:-1].values\n",
    "print(X)\n",
    "y = df.iloc[:,-1].values\n",
    "print(y)"
   ]
  },
  {
   "cell_type": "markdown",
   "id": "794b3f4f",
   "metadata": {},
   "source": [
    "#### Now we split the above arrays into training (80%) and test (20%) data, and randomize what data it chooses for each set:"
   ]
  },
  {
   "cell_type": "code",
   "execution_count": 13,
   "id": "7fdb2622",
   "metadata": {},
   "outputs": [],
   "source": [
    "test_set_size = 0.2\n",
    "# Initial value for randomization\n",
    "seed = 7"
   ]
  },
  {
   "cell_type": "code",
   "execution_count": 14,
   "id": "c9346484",
   "metadata": {},
   "outputs": [],
   "source": [
    "X_train, X_test, y_train, y_test = model_selection.train_test_split(X, y, test_size=test_set_size, random_state=seed)"
   ]
  },
  {
   "cell_type": "markdown",
   "id": "b4b55b97",
   "metadata": {},
   "source": [
    "Now we have the trainings data X_train and y_train, and the validation data X_test and y_test"
   ]
  },
  {
   "cell_type": "markdown",
   "id": "b47c644c",
   "metadata": {},
   "source": [
    "### 5. Train Data"
   ]
  },
  {
   "cell_type": "markdown",
   "id": "526a6c2d",
   "metadata": {},
   "source": [
    "#### We have choosen the classifier Gaussian Naive Bayes (NB)"
   ]
  },
  {
   "cell_type": "code",
   "execution_count": 15,
   "id": "b44df377",
   "metadata": {},
   "outputs": [
    {
     "data": {
      "text/plain": [
       "GaussianNB()"
      ]
     },
     "execution_count": 15,
     "metadata": {},
     "output_type": "execute_result"
    }
   ],
   "source": [
    "model = GaussianNB()\n",
    "model.fit(X_train, y_train)"
   ]
  },
  {
   "cell_type": "code",
   "execution_count": 16,
   "id": "b6079c2c",
   "metadata": {},
   "outputs": [
    {
     "data": {
      "text/plain": [
       "0.9705882352941176"
      ]
     },
     "execution_count": 16,
     "metadata": {},
     "output_type": "execute_result"
    }
   ],
   "source": [
    "model.score(X_test, y_test)"
   ]
  },
  {
   "cell_type": "markdown",
   "id": "a72f3c41",
   "metadata": {},
   "source": [
    "The above is a really good score."
   ]
  },
  {
   "cell_type": "code",
   "execution_count": 17,
   "id": "23cd9e67",
   "metadata": {},
   "outputs": [
    {
     "data": {
      "text/plain": [
       "array([1, 0, 1, 0, 1, 0, 0, 0, 0, 0, 0, 1, 0, 0, 0, 1, 1, 1, 0, 1, 1, 0,\n",
       "       0, 1, 1, 0, 0, 0, 1, 0, 0, 1, 0, 1], dtype=int64)"
      ]
     },
     "execution_count": 17,
     "metadata": {},
     "output_type": "execute_result"
    }
   ],
   "source": [
    "prediction = model.predict(X_test)\n",
    "prediction"
   ]
  },
  {
   "cell_type": "code",
   "execution_count": 18,
   "id": "543f951f",
   "metadata": {},
   "outputs": [
    {
     "data": {
      "text/plain": [
       "(34,)"
      ]
     },
     "execution_count": 18,
     "metadata": {},
     "output_type": "execute_result"
    }
   ],
   "source": [
    "prediction.shape"
   ]
  },
  {
   "cell_type": "markdown",
   "id": "435a1763",
   "metadata": {},
   "source": [
    "### 6. Evaluate Results"
   ]
  },
  {
   "cell_type": "markdown",
   "id": "37f97ad4",
   "metadata": {},
   "source": [
    "#### First we will look at the models accuracy score:"
   ]
  },
  {
   "cell_type": "code",
   "execution_count": 19,
   "id": "3f1b3918",
   "metadata": {},
   "outputs": [
    {
     "name": "stdout",
     "output_type": "stream",
     "text": [
      "0.9705882352941176\n"
     ]
    }
   ],
   "source": [
    "print(accuracy_score(y_test, prediction))"
   ]
  },
  {
   "cell_type": "markdown",
   "id": "ab177816",
   "metadata": {},
   "source": [
    "This is a really good score."
   ]
  },
  {
   "cell_type": "markdown",
   "id": "4ff89fdf",
   "metadata": {},
   "source": [
    "#### We are creating a heatmap of the confusion_matrix that tells us how many True Negatives, True Positives, False Negatives and False Positives we have:"
   ]
  },
  {
   "cell_type": "code",
   "execution_count": 20,
   "id": "444977b8",
   "metadata": {},
   "outputs": [
    {
     "name": "stdout",
     "output_type": "stream",
     "text": [
      "[[20  1]\n",
      " [ 0 13]]\n"
     ]
    }
   ],
   "source": [
    "cf_matrix = confusion_matrix(y_test, prediction)\n",
    "print(cf_matrix)"
   ]
  },
  {
   "cell_type": "code",
   "execution_count": 21,
   "id": "6b3b55f7",
   "metadata": {},
   "outputs": [
    {
     "data": {
      "image/png": "[encoded data removed]",
      "text/plain": [
       "<Figure size 432x288 with 2 Axes>"
      ]
     },
     "metadata": {
      "needs_background": "light"
     },
     "output_type": "display_data"
    }
   ],
   "source": [
    "group_names = ['True Neg','False Pos','False Neg','True Pos']\n",
    "\n",
    "group_counts = [\"{0:0.0f}\".format(value) for value in\n",
    "                cf_matrix.flatten()]\n",
    "\n",
    "group_percentages = [\"{0:.2%}\".format(value) for value in\n",
    "                     cf_matrix.flatten()/np.sum(cf_matrix)]\n",
    "\n",
    "labels = [f\"{v1}\\n{v2}\\n{v3}\" for v1, v2, v3 in\n",
    "          zip(group_names,group_counts,group_percentages)]\n",
    "\n",
    "labels = np.asarray(labels).reshape(2,2)\n",
    "\n",
    "ax = sns.heatmap(cf_matrix, annot=labels, fmt='', cmap='Blues')\n",
    "\n",
    "ax.set_title('Seaborn Confusion Matrix with labels\\n\\n');\n",
    "ax.set_xlabel('\\nPredicted Values')\n",
    "ax.set_ylabel('Actual Values ');\n",
    "\n",
    "## Ticket labels - List must be in alphabetical order\n",
    "ax.xaxis.set_ticklabels(['False','True'])\n",
    "ax.yaxis.set_ticklabels(['False','True'])\n",
    "\n",
    "## Display the visualization of the Confusion Matrix.\n",
    "plt.show()"
   ]
  },
  {
   "cell_type": "markdown",
   "id": "de4baba8",
   "metadata": {},
   "source": [
    "#### From the above heatmap we can see that we have 20 True Negatives and 13 True positives. There are only 1 that has been predicted wrong as False Positive, so the model must be good."
   ]
  },
  {
   "cell_type": "code",
   "execution_count": 22,
   "id": "62a81fcf",
   "metadata": {},
   "outputs": [
    {
     "name": "stdout",
     "output_type": "stream",
     "text": [
      "              precision    recall  f1-score   support\n",
      "\n",
      "           0       1.00      0.95      0.98        21\n",
      "           1       0.93      1.00      0.96        13\n",
      "\n",
      "    accuracy                           0.97        34\n",
      "   macro avg       0.96      0.98      0.97        34\n",
      "weighted avg       0.97      0.97      0.97        34\n",
      "\n"
     ]
    }
   ],
   "source": [
    "print(classification_report(y_test, prediction))"
   ]
  },
  {
   "cell_type": "markdown",
   "id": "ff35eee5",
   "metadata": {},
   "source": [
    "#### The classification report states that the precision of 1 is 93% because we had one 0 that was classified as a 1. The recall says that for all instances that were actually positive, what percent was classified correctly, and here the 0 is lower (95%) for the same reason. F1 is pretty close to 1, therfor the model is good."
   ]
  },
  {
   "cell_type": "markdown",
   "id": "61337370",
   "metadata": {},
   "source": [
    "### 7. Testing Method"
   ]
  },
  {
   "cell_type": "markdown",
   "id": "c9f4c0bb",
   "metadata": {},
   "source": [
    "#### Testing if the 2. row can be predicted as 1, which is correct:"
   ]
  },
  {
   "cell_type": "code",
   "execution_count": 23,
   "id": "54c6ac3f",
   "metadata": {},
   "outputs": [
    {
     "data": {
      "text/plain": [
       "array([4, 4, 4, 4, 4, 0, 0, 4, 4, 4, 4, 3, 4, 0, 4, 4, 4, 4, 3, 2, 1, 1,\n",
       "       0, 2, 2, 1, 2, 0, 1, 1, 0, 4, 2, 3, 0, 2, 3, 4, 2, 4, 2, 2, 3, 4,\n",
       "       2, 2, 2, 3, 4, 4, 4, 4, 2, 2], dtype=int64)"
      ]
     },
     "execution_count": 23,
     "metadata": {},
     "output_type": "execute_result"
    }
   ],
   "source": [
    "m = df.iloc[1, 0:54].values\n",
    "m"
   ]
  },
  {
   "cell_type": "code",
   "execution_count": 24,
   "id": "4949a9c4",
   "metadata": {},
   "outputs": [
    {
     "data": {
      "text/plain": [
       "array([1], dtype=int64)"
      ]
     },
     "execution_count": 24,
     "metadata": {},
     "output_type": "execute_result"
    }
   ],
   "source": [
    "my_prediction = model.predict([m])\n",
    "my_prediction"
   ]
  },
  {
   "cell_type": "markdown",
   "id": "f9ccc689",
   "metadata": {},
   "source": [
    "#### Testing if the last row can be predicted as 0, which is correct:"
   ]
  },
  {
   "cell_type": "code",
   "execution_count": 25,
   "id": "48532c67",
   "metadata": {},
   "outputs": [
    {
     "data": {
      "text/plain": [
       "array([0, 0, 0, 0, 0, 0, 0, 1, 0, 0, 0, 1, 1, 1, 0, 0, 0, 0, 0, 1, 1, 0,\n",
       "       1, 1, 0, 0, 0, 0, 0, 0, 1, 3, 0, 0, 0, 0, 0, 0, 0, 0, 0, 2, 2, 0,\n",
       "       1, 3, 4, 4, 0, 1, 3, 3, 3, 1], dtype=int64)"
      ]
     },
     "execution_count": 25,
     "metadata": {},
     "output_type": "execute_result"
    }
   ],
   "source": [
    "n = df.iloc[169, 0:54].values\n",
    "n"
   ]
  },
  {
   "cell_type": "code",
   "execution_count": 26,
   "id": "1824a4bd",
   "metadata": {},
   "outputs": [
    {
     "data": {
      "text/plain": [
       "array([0], dtype=int64)"
      ]
     },
     "execution_count": 26,
     "metadata": {},
     "output_type": "execute_result"
    }
   ],
   "source": [
    "my_prediction = model.predict([n])\n",
    "my_prediction"
   ]
  },
  {
   "cell_type": "markdown",
   "id": "063d7979",
   "metadata": {},
   "source": [
    "#### We are comparing the two classification reports of the train and test datasets:"
   ]
  },
  {
   "cell_type": "code",
   "execution_count": 27,
   "id": "57bf7a75",
   "metadata": {},
   "outputs": [
    {
     "name": "stdout",
     "output_type": "stream",
     "text": [
      "\n",
      "########################################\n"
     ]
    }
   ],
   "source": [
    "# Evaluate classifier performance\n",
    "class_names = ['0', '1']\n",
    "print(\"\\n\" + \"#\"*40)"
   ]
  },
  {
   "cell_type": "code",
   "execution_count": 28,
   "id": "93b7fafb",
   "metadata": {},
   "outputs": [
    {
     "name": "stdout",
     "output_type": "stream",
     "text": [
      "\n",
      "Classifier performance on training dataset\n",
      "\n",
      "              precision    recall  f1-score   support\n",
      "\n",
      "           0       0.96      1.00      0.98        65\n",
      "           1       1.00      0.96      0.98        71\n",
      "\n",
      "    accuracy                           0.98       136\n",
      "   macro avg       0.98      0.98      0.98       136\n",
      "weighted avg       0.98      0.98      0.98       136\n",
      "\n",
      "########################################\n",
      "\n"
     ]
    }
   ],
   "source": [
    "print(\"\\nClassifier performance on training dataset\\n\")\n",
    "print(classification_report(y_train, model.predict(X_train), target_names=class_names))\n",
    "print(\"#\"*40 + \"\\n\")"
   ]
  },
  {
   "cell_type": "code",
   "execution_count": 29,
   "id": "e49d6f41",
   "metadata": {},
   "outputs": [
    {
     "name": "stdout",
     "output_type": "stream",
     "text": [
      "\n",
      "Classifier performance on test dataset\n",
      "\n",
      "              precision    recall  f1-score   support\n",
      "\n",
      "           0       1.00      0.95      0.98        21\n",
      "           1       0.93      1.00      0.96        13\n",
      "\n",
      "    accuracy                           0.97        34\n",
      "   macro avg       0.96      0.98      0.97        34\n",
      "weighted avg       0.97      0.97      0.97        34\n",
      "\n"
     ]
    }
   ],
   "source": [
    "print(\"\\nClassifier performance on test dataset\\n\")\n",
    "print(classification_report(y_test, prediction, target_names=class_names))"
   ]
  },
  {
   "cell_type": "markdown",
   "id": "77142d32",
   "metadata": {},
   "source": [
    "#### As we can see from the above, the F1 score for 1 is not the same for train and test data. This means that the model is not perfect, but still pretty good. "
   ]
  },
  {
   "cell_type": "markdown",
   "id": "05a9b90a",
   "metadata": {},
   "source": [
    "### Another classification model:"
   ]
  },
  {
   "cell_type": "markdown",
   "id": "420151ae",
   "metadata": {},
   "source": [
    "#### The other classification model we choose is KNeighborsClassifier:"
   ]
  },
  {
   "cell_type": "code",
   "execution_count": 30,
   "id": "5ac2de7f",
   "metadata": {
    "scrolled": true
   },
   "outputs": [
    {
     "name": "stdout",
     "output_type": "stream",
     "text": [
      "1.0\n",
      "[[21  0]\n",
      " [ 0 13]]\n",
      "              precision    recall  f1-score   support\n",
      "\n",
      "           0       1.00      1.00      1.00        21\n",
      "           1       1.00      1.00      1.00        13\n",
      "\n",
      "    accuracy                           1.00        34\n",
      "   macro avg       1.00      1.00      1.00        34\n",
      "weighted avg       1.00      1.00      1.00        34\n",
      "\n"
     ]
    }
   ],
   "source": [
    "# Compare accuracy with KNN\n",
    "knn = KNeighborsClassifier()\n",
    "knn.fit(X_train, y_train)\n",
    "predictions = knn.predict(X_test)\n",
    "\n",
    "# Calculated accuracy of the model over the validation set\n",
    "print(accuracy_score(y_test, predictions))\n",
    "\n",
    "# Confusion matrix provides an indication of the three errors made ???? errors of predictions?\n",
    "print(confusion_matrix(y_test, predictions))\n",
    "\n",
    "# Classification report provides a breakdown of each class by precision, recall, f1-score and support ????\n",
    "print(classification_report(y_test, predictions))"
   ]
  },
  {
   "cell_type": "markdown",
   "id": "2d4a0bb8",
   "metadata": {},
   "source": [
    "#### This classifier is 100 % accurate, beacuse the precision score, the recall score and therefor the f1 score, is all 1.00, which is the best score you can get."
   ]
  }
 ],
 "metadata": {
  "kernelspec": {
   "display_name": "Python 3 (ipykernel)",
   "language": "python",
   "name": "python3"
  },
  "language_info": {
   "codemirror_mode": {
    "name": "ipython",
    "version": 3
   },
   "file_extension": ".py",
   "mimetype": "text/x-python",
   "name": "python",
   "nbconvert_exporter": "python",
   "pygments_lexer": "ipython3",
   "version": "3.9.7"
  }
 },
 "nbformat": 4,
 "nbformat_minor": 5
}

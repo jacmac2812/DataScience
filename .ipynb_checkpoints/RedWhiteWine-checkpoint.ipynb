{
 "cells": [
  {
   "cell_type": "markdown",
   "id": "9404013a",
   "metadata": {},
   "source": [
    "# Red & white wine"
   ]
  },
  {
   "cell_type": "code",
   "execution_count": null,
   "id": "d03f0054",
   "metadata": {},
   "outputs": [],
   "source": [
    "#imports\n",
    "import pandas as pd\n",
    "import numpy as np\n",
    "import matplotlib.pyplot as plt\n",
    "import pandas_profiling\n",
    "%matplotlib inline\n",
    "import random\n",
    "from sklearn import datasets, svm, tree, preprocessing, metrics"
   ]
  },
  {
   "cell_type": "code",
   "execution_count": null,
   "id": "e55e00d9",
   "metadata": {},
   "outputs": [],
   "source": [
    "white = '../data/winequalitywhite.xlsx'\n",
    "df = pd.read_excel(white)\n",
    "red = '../data/winequalityred.xlsx'\n",
    "dff = pd.read_excel(red)"
   ]
  },
  {
   "cell_type": "code",
   "execution_count": null,
   "id": "77a01775",
   "metadata": {},
   "outputs": [],
   "source": [
    "df['type'] = 'White'\n",
    "df"
   ]
  },
  {
   "cell_type": "code",
   "execution_count": null,
   "id": "5f766c6c",
   "metadata": {},
   "outputs": [],
   "source": [
    "dff['type'] = 'Red'\n",
    "dff"
   ]
  },
  {
   "cell_type": "code",
   "execution_count": null,
   "id": "e584f490",
   "metadata": {},
   "outputs": [],
   "source": [
    "merchedDf = pd.concat([df, dff], axis = 0)\n",
    "merchedDf"
   ]
  },
  {
   "cell_type": "code",
   "execution_count": null,
   "id": "b24d8e7b",
   "metadata": {},
   "outputs": [],
   "source": [
    "merchedDf.shape"
   ]
  },
  {
   "cell_type": "code",
   "execution_count": null,
   "id": "f128b908",
   "metadata": {},
   "outputs": [],
   "source": [
    "merchedDf.dtypes"
   ]
  },
  {
   "cell_type": "code",
   "execution_count": null,
   "id": "b23877b4",
   "metadata": {},
   "outputs": [],
   "source": [
    "merchedDf.columns"
   ]
  },
  {
   "cell_type": "code",
   "execution_count": null,
   "id": "38a3c643",
   "metadata": {},
   "outputs": [],
   "source": [
    "merchedDf.describe()"
   ]
  },
  {
   "cell_type": "code",
   "execution_count": null,
   "id": "30981cce",
   "metadata": {},
   "outputs": [],
   "source": [
    "merchedDf['type'].value_counts().plot(kind='bar')"
   ]
  },
  {
   "cell_type": "code",
   "execution_count": null,
   "id": "1be9afbe",
   "metadata": {},
   "outputs": [],
   "source": [
    "quality = df['quality'].mean(), dff['quality'].mean()\n",
    "quality"
   ]
  },
  {
   "cell_type": "code",
   "execution_count": null,
   "id": "34ad03dc",
   "metadata": {},
   "outputs": [],
   "source": [
    "color = ['White', 'Red']\n",
    "plt.bar(color, quality)\n",
    "plt.title('Red VS. White quality')\n",
    "plt.xlabel('Color')\n",
    "plt.ylabel('Quality')\n",
    "plt.show()"
   ]
  },
  {
   "cell_type": "code",
   "execution_count": null,
   "id": "2525fa5e",
   "metadata": {},
   "outputs": [],
   "source": [
    "alcohol = df['alcohol'].mean(), dff['alcohol'].mean()\n",
    "alcohol"
   ]
  },
  {
   "cell_type": "code",
   "execution_count": null,
   "id": "2b3d464a",
   "metadata": {},
   "outputs": [],
   "source": [
    "color = ['White', 'Red']\n",
    "plt.bar(color, alcohol)\n",
    "plt.title('Red VS. White alcohol procentage')\n",
    "plt.xlabel('Color')\n",
    "plt.ylabel('Alcohol')\n",
    "plt.show()"
   ]
  },
  {
   "cell_type": "code",
   "execution_count": null,
   "id": "c5b9b497",
   "metadata": {},
   "outputs": [],
   "source": [
    "sugar = df['residual sugar'].mean(), dff['residual sugar'].mean()\n",
    "sugar"
   ]
  },
  {
   "cell_type": "code",
   "execution_count": null,
   "id": "76cc491b",
   "metadata": {},
   "outputs": [],
   "source": [
    "color = ['White', 'Red']\n",
    "plt.bar(color, sugar)\n",
    "plt.title('Red VS. White alcohol procentage')\n",
    "plt.xlabel('Color')\n",
    "plt.ylabel('Sugar procentage')\n",
    "plt.show()"
   ]
  },
  {
   "cell_type": "code",
   "execution_count": null,
   "id": "11bd42c2",
   "metadata": {},
   "outputs": [],
   "source": [
    "ph = merchedDf.groupby('pH').mean()\n",
    "ph"
   ]
  },
  {
   "cell_type": "code",
   "execution_count": null,
   "id": "e609a8b3",
   "metadata": {},
   "outputs": [],
   "source": [
    "ranges = range(5)\n",
    "ph_by_color = merchedDf.groupby([(pd.cut(merchedDf.pH, ranges)), 'type']).mean()\n",
    "ph_by_color"
   ]
  },
  {
   "cell_type": "code",
   "execution_count": null,
   "id": "4239438a",
   "metadata": {},
   "outputs": [],
   "source": [
    "minPh = merchedDf['pH'].min()\n",
    "minPh"
   ]
  },
  {
   "cell_type": "code",
   "execution_count": null,
   "id": "71cba78d",
   "metadata": {},
   "outputs": [],
   "source": [
    "maxPh = merchedDf['pH'].max()\n",
    "maxPh"
   ]
  },
  {
   "cell_type": "code",
   "execution_count": null,
   "id": "cecbb165",
   "metadata": {},
   "outputs": [],
   "source": [
    "l = (maxPh - minPh)/5\n",
    "l"
   ]
  },
  {
   "cell_type": "code",
   "execution_count": null,
   "id": "b4b95fcc",
   "metadata": {},
   "outputs": [],
   "source": [
    "array=[]\n",
    "for i in np.arange(minPh, maxPh+0.01, l):\n",
    "    array.append(i)\n",
    "    print(i, end=', ')\n",
    "array"
   ]
  },
  {
   "cell_type": "code",
   "execution_count": null,
   "id": "ec47662a",
   "metadata": {
    "scrolled": true
   },
   "outputs": [],
   "source": [
    "ranges = array\n",
    "ph = merchedDf.groupby([(pd.cut(merchedDf.pH, ranges))]).mean()\n",
    "ph"
   ]
  },
  {
   "cell_type": "code",
   "execution_count": null,
   "id": "7c8af809",
   "metadata": {},
   "outputs": [],
   "source": [
    "density = ph.groupby('density').max()\n",
    "density"
   ]
  },
  {
   "cell_type": "code",
   "execution_count": null,
   "id": "6df9ea7d",
   "metadata": {},
   "outputs": [],
   "source": [
    "ph.loc['density']"
   ]
  },
  {
   "cell_type": "code",
   "execution_count": null,
   "id": "447e58b4",
   "metadata": {},
   "outputs": [],
   "source": []
  }
 ],
 "metadata": {
  "kernelspec": {
   "display_name": "Python 3 (ipykernel)",
   "language": "python",
   "name": "python3"
  },
  "language_info": {
   "codemirror_mode": {
    "name": "ipython",
    "version": 3
   },
   "file_extension": ".py",
   "mimetype": "text/x-python",
   "name": "python",
   "nbconvert_exporter": "python",
   "pygments_lexer": "ipython3",
   "version": "3.9.7"
  }
 },
 "nbformat": 4,
 "nbformat_minor": 5
}
